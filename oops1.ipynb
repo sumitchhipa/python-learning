{
  "nbformat": 4,
  "nbformat_minor": 0,
  "metadata": {
    "colab": {
      "provenance": [],
      "authorship_tag": "ABX9TyPZizxVMYellI+Ci1R4IP2k",
      "include_colab_link": true
    },
    "kernelspec": {
      "name": "python3",
      "display_name": "Python 3"
    },
    "language_info": {
      "name": "python"
    }
  },
  "cells": [
    {
      "cell_type": "markdown",
      "metadata": {
        "id": "view-in-github",
        "colab_type": "text"
      },
      "source": [
        "<a href=\"https://colab.research.google.com/github/sumitchhipa/python-learning/blob/main/oops1.ipynb\" target=\"_parent\"><img src=\"https://colab.research.google.com/assets/colab-badge.svg\" alt=\"Open In Colab\"/></a>"
      ]
    },
    {
      "cell_type": "code",
      "execution_count": null,
      "metadata": {
        "id": "ddKvp1jJXg4z",
        "colab": {
          "base_uri": "https://localhost:8080/",
          "height": 109
        },
        "outputId": "255fcc09-c77e-49e5-dfaa-b97abd0ffa7e"
      },
      "outputs": [
        {
          "output_type": "error",
          "ename": "SyntaxError",
          "evalue": "unterminated string literal (detected at line 1) (<ipython-input-1-4b8ee80fbac5>, line 1)",
          "traceback": [
            "\u001b[0;36m  File \u001b[0;32m\"<ipython-input-1-4b8ee80fbac5>\"\u001b[0;36m, line \u001b[0;32m1\u001b[0m\n\u001b[0;31m    \"oops is a programing paradign  based on the concept of classes and objects thsese\u001b[0m\n\u001b[0m    ^\u001b[0m\n\u001b[0;31mSyntaxError\u001b[0m\u001b[0;31m:\u001b[0m unterminated string literal (detected at line 1)\n"
          ]
        }
      ],
      "source": [
        "from sre_constants import CHCODES\n",
        "\"oops is a programing paradign  based on the concept of classes and objects thsese\n",
        "  \"object can contaion data and attributes and funtionalities (methods)\"\n",
        "python is an object oriented programming language which means it's supports oops\n",
        "   principles like encapctulation inheritance polymorphism and abstractions\n",
        "Q.1  why we use oops?\n",
        "Ans. Reusability-> code can be reused through inhertance and classes reducing redundancy\n",
        "   mdularity -> programs are divded into objects making them easier to understasnd and maintainable\n",
        "   data protection-> encptulation helps restric access to certain part of an object\n",
        "   polymorphism / flexibilty->  it is allows the same interface to intrreact with diffrent types of object\n",
        "Q.2 key concepts of oops.\n",
        "Ans.\n",
        "  1.class-> A class is a blueprint for crating objects it defines a structure to hold data / attributes and functions related to that object\n",
        "  2. object -> A object is a instance of a class it reprsents a specific entity crated using the class blueprint\n",
        "  3. self keyword-> self is a refrence to the current instance of the class it allows us to access the objects attributes and methods it must be the\n",
        "   first paraa meter in instance methods when calling a method self is passed automaticlly\n",
        "  4. attributes-> are variables that hold data about an object they are define inside a class and reprsent the properties or state of an object.\n",
        "  example - class abc :\n",
        "          inside all are functions and variables (self etc) are attributes\n",
        "  5. methods-> methods are functions define inside a class that operate on the object attributes they define the behaviour of an object.\n",
        "      calss dog:\n",
        "        def__init__(self,name,bread):\n",
        "          self.name= name\n",
        "          self.bread = bread\n",
        "        def bark(self) :\n",
        "Q.3 what happend if we do not use self?\n",
        "Ans.the method will not have a way to reffferd to the object calling it python will raise an errorwhen trying to access instance\n",
        "attributes or methods inside the class as they are not explicitly connected to the instancce\n",
        "\"Encaptulation \"-> it is refers to bundeling data and methods that work on the data into a single unit usally a class.\n",
        " Q. how encaptualition works?\n",
        " Ans. public attributes-> directly accessible\n",
        "  private attribute-> do not access directly and identifcation is __(double underscore)\n",
        " Q. why is encaptualtion is important?\n",
        " Ans. it is important because it improve data security by restricing unautorised access it promotes modularity by hiding impementaion\n",
        " details it unables control over the data by providing controlled access through methods it enhance code mentailbilty and reuasbily by protecting data from unintended modifications.\n",
        "\" inhertance in oops->\"it is a fundamental concept in oops that allow a class (child clss) to inherit attributes and methods from another class this promoteees code reusability and modularity.\n",
        "\"key benifits of inheritance-> \"\n",
        "1. code reusabilty-> the child class can use the in the parant class\n",
        "2. extensibilty-> THE child class can add or modify functionlity of the parant clss\n",
        "3.hierrachical structure->relationship between clases are more organised\n",
        "\"types of inheritance->>\"\n",
        "1. single inhertance-> a child class inherit from one parent class\n",
        "2. multiple inheritance-> a child class inherits from two or more parent clsses.\n",
        "3. multi- level inheritance-> a child class inherit from a parant clss and that parant class inherit from another paraant class .\n",
        "4. heirarchical inheritance-> multiple child classes inherit from a single parent class.\n",
        "\"class method ->\" A class method is a method that operates on the class itself rather than an instancce of the class.\n",
        "it is define using the @class method and takes a cls(class refrance)as it's first parameter.\n",
        "\"features of class method->\"\n",
        "1. it operates on the class rather than instance specifc data\n",
        "2. we can modify the class state using cls.\n",
        "\"2. static method ->\"A static method is a method that does not operate or either the class or the instance\n",
        " it behaves like a regular function but is define inside a class for logical grouping it is marked with @static method decorator.\n",
        "\"Features of static method-> \"\n",
        "1. does not require self or cls as parameter\n",
        "2. can not modifying clss or instance attributes\n",
        "3. usefull for utility or helper methods that do not rellay on the class or instance.\n",
        "\"3. super method\"-> the super method is used to call a method from the parant class in the context of the inheritance it allows us to avoid explicitly refering to the parant class and makes the code more maintainable\n",
        "\"features of super method->\"\n",
        "1 accesess parant class methods or attributes\n",
        "2. usefull in multi- level or multiple inheritance helps in avoiding code repeatation\n",
        "Q.1 why we use\" polymorephism?\"\n",
        "polymorephism allowed  to be prepared as object of acommon super class it unables a single interface to represent dfiifrent underlying forms this makes the code more flexible reusable and easier to extained\n",
        "\"key benifits of polymorphisom->\"\n",
        "1. code reusalbility - we can write more generic code that works with object diffrent type\n",
        "2. flexibility  - new calsses can be accesses with minimal changes accesing CHCODES3.\n",
        "3. readiblilty - simplify complexiblity by useing a name for multiple actions\n",
        "Q. what is \"overriding in python ?\"\n",
        "Ans. overridding is a feature in object-oriented programming that allows a subclass to provide a different implementation of a method that is already defined in its superclass.\n",
        "the overridden method in a subclass will be executed instead of one in the parant class when called on an instance of the subclass\n",
        "\"key points of overridding-\"\n",
        " it happens a between the method in the child class must have the same name and parameters as the method in the parant class\n",
        " it is used to provide specific behaviour in a subclass\n",
        "\"2. overloadding\" - overloading allows the same function or opertor to behave diffrently based on the number or types of  arguments while python does not suppot method overloading direclty it can be mimic using default args or by checking args types\n",
        " \"key points of overloading- \"\n",
        " it allows the same function to handle diffrent numbers or types of inputs .\n",
        " Q. what is abstraction in oops?\n",
        "Ans. abstraction is an concept in oops that hide unneccesary ddetials from the user and only show the essientisal feature of an object it allows us to focus on what an object thus rather than how it does it.\n",
        "how abstraction works?\n",
        "abstrction can be implementing using abstract base class these are the classes that serve as a blueprint for another classes we can not create ojeact direclty from an absatract class.\n",
        "A decorator (@ abstract method) that defineas methods in the abstracta class but does not provide their implementaion to use abstraction we use ABC module\n"
      ]
    },
    {
      "cell_type": "code",
      "source": [],
      "metadata": {
        "id": "dA0fM8deHENQ"
      },
      "execution_count": null,
      "outputs": []
    }
  ]
}