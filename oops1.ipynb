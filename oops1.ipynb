{
  "nbformat": 4,
  "nbformat_minor": 0,
  "metadata": {
    "colab": {
      "provenance": [],
      "authorship_tag": "ABX9TyN4M781PIKm9CI7+6jkyBcb",
      "include_colab_link": true
    },
    "kernelspec": {
      "name": "python3",
      "display_name": "Python 3"
    },
    "language_info": {
      "name": "python"
    }
  },
  "cells": [
    {
      "cell_type": "markdown",
      "metadata": {
        "id": "view-in-github",
        "colab_type": "text"
      },
      "source": [
        "<a href=\"https://colab.research.google.com/github/sumitchhipa/python-learning/blob/main/oops1.ipynb\" target=\"_parent\"><img src=\"https://colab.research.google.com/assets/colab-badge.svg\" alt=\"Open In Colab\"/></a>"
      ]
    },
    {
      "cell_type": "code",
      "execution_count": null,
      "metadata": {
        "id": "ddKvp1jJXg4z"
      },
      "outputs": [],
      "source": [
        "oops is a programing paradign  based on the concept of classes and objects thsese\n",
        "  object can contaion data and attributes and funtionalities (methods)\n",
        "python is an object oriented programming language which means it's d=supports oops\n",
        "   principles like encapctulation inheritance polymorphism and abstractions\n",
        "Q.1  why we use oops?\n",
        "Ans. Reusability-> code can be reused through inhertance and classes reducing redundancy\n",
        "   mdularity -> programs are divded into objects making them easier to understasnd and maintainable\n",
        "   data protection-> encptulation helps restric access to certain part of an object\n",
        "   polymorphism / flexibilty->  it is allows the same interface to intrreact with diffrent types of object\n",
        "Q.2 key concepts of oops.\n",
        "Ans. 1.class-> A class is a blueprint for crating objects it defines a structure to hold data / attributes and functions related to that object\n",
        "  2. object -> A object is a instance of a class it reprsents a specific entity crated using the class blueprint\n",
        "  3. self keyword-> self is a refrence to the current instance of the class it allows us to access the objects attributes and methods it must be the\n",
        "   first paraa meter in instance methods when calling a method self is passed automaticlly\n",
        "Q.3 what happend if wee do not use self?\n",
        "Ans.the method will not have a way to reffferd to the object calling it python will raise an errorwhen trying to access instance attributes or methods inside\n",
        " the class as they are not explicitly connected to the instancce"
      ]
    }
  ]
}