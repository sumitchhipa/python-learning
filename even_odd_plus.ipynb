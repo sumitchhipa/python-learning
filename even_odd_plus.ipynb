{
  "nbformat": 4,
  "nbformat_minor": 0,
  "metadata": {
    "colab": {
      "provenance": [],
      "authorship_tag": "ABX9TyOulygTPFYPpUsEVmM56NSy",
      "include_colab_link": true
    },
    "kernelspec": {
      "name": "python3",
      "display_name": "Python 3"
    },
    "language_info": {
      "name": "python"
    }
  },
  "cells": [
    {
      "cell_type": "markdown",
      "metadata": {
        "id": "view-in-github",
        "colab_type": "text"
      },
      "source": [
        "<a href=\"https://colab.research.google.com/github/sumitchhipa/python-learning/blob/main/even_odd_plus.ipynb\" target=\"_parent\"><img src=\"https://colab.research.google.com/assets/colab-badge.svg\" alt=\"Open In Colab\"/></a>"
      ]
    },
    {
      "cell_type": "code",
      "execution_count": null,
      "metadata": {
        "colab": {
          "base_uri": "https://localhost:8080/"
        },
        "id": "xdcL_-IVOIBY",
        "outputId": "19e73dc0-5b26-4f1c-b392-c6e8745f9285"
      },
      "outputs": [
        {
          "output_type": "stream",
          "name": "stdout",
          "text": [
            "1234\n"
          ]
        },
        {
          "output_type": "execute_result",
          "data": {
            "text/plain": [
              "int"
            ]
          },
          "metadata": {},
          "execution_count": 4
        }
      ],
      "source": [
        "a=1234\n",
        "b=a\n",
        "print(b)\n",
        "type(b)"
      ]
    },
    {
      "cell_type": "code",
      "source": [
        "a = 1234\n",
        "a_str = str(a)\n",
        "even_digits = []\n",
        "odd_digits = []\n",
        "for digit in a_str:\n",
        "    digit = int(digit)\n",
        "    if digit % 2 == 0:\n",
        "        even_digits.append(digit)\n",
        "    else:\n",
        "        odd_digits.append(digit)\n",
        "\n",
        "even_sum = sum(even_digits)\n",
        "odd_sum = sum(odd_digits)\n",
        "\n",
        "print(\"Even digits:\", even_digits)\n",
        "print(\"Odd digits:\", odd_digits)\n",
        "print(\"Sum of even digits:\", even_sum)\n",
        "print(\"Sum of odd digits:\", odd_sum)"
      ],
      "metadata": {
        "colab": {
          "base_uri": "https://localhost:8080/"
        },
        "id": "p5EYLqUnOq4t",
        "outputId": "f2fe9e0d-1752-414f-c413-55a2b9bfc1e4"
      },
      "execution_count": null,
      "outputs": [
        {
          "output_type": "stream",
          "name": "stdout",
          "text": [
            "Even digits: [2, 4]\n",
            "Odd digits: [1, 3]\n",
            "Sum of even digits: 6\n",
            "Sum of odd digits: 4\n"
          ]
        }
      ]
    },
    {
      "cell_type": "code",
      "source": [
        "year=int(input(\"Enter year to be checked:\"))\n",
        "if(year%4==0 and year%100!=0 or year%400==0):\n",
        "    print(\"The year is a leap year!\")\n",
        "else:\n",
        "    print(\"The year isn't a leap year!\")"
      ],
      "metadata": {
        "colab": {
          "base_uri": "https://localhost:8080/"
        },
        "id": "G_Z6y7EvQwEE",
        "outputId": "8d737052-7f0b-4eda-8d9f-7e1bedc0d289"
      },
      "execution_count": null,
      "outputs": [
        {
          "output_type": "stream",
          "name": "stdout",
          "text": [
            "Enter year to be checked:2024\n",
            "The year is a leap year!\n"
          ]
        }
      ]
    },
    {
      "cell_type": "code",
      "source": [
        "import random\n",
        "\n",
        "def generate_quote():\n",
        "    quotes = [\n",
        "        \"The only way to do great work is to love what you do.\",  # Inspirational\n",
        "        \"Strive not to be a success, but rather to be of value.\",  # Motivational\n",
        "        \"The mind is everything. What you think you become.\",  # Wisdom\n",
        "        \"Life is what happens when you're busy making other plans.\",  # Philosophical\n",
        "        \"The only thing that overcomes hard luck is hard work.\",  # Perseverance\n",
        "        \"Always remember that you are absolutely unique. Just like everyone else.\", # Funny\n",
        "        \"I intend to live forever, or die trying.\", # Funny\n",
        "        \"Do not take life too seriously. You will never get out of it alive.\" # Funny\n",
        "    ]\n",
        "    return random.choice(quotes)\n",
        "\n",
        "# Get a random quote\n",
        "quote = generate_quote()\n",
        "\n",
        "# Print the quote\n",
        "print(quote)"
      ],
      "metadata": {
        "colab": {
          "base_uri": "https://localhost:8080/"
        },
        "id": "H181Tb7BSZnR",
        "outputId": "e232007f-76a3-43e7-847d-b8369e03beba"
      },
      "execution_count": null,
      "outputs": [
        {
          "output_type": "stream",
          "name": "stdout",
          "text": [
            "I intend to live forever, or die trying.\n"
          ]
        }
      ]
    },
    {
      "cell_type": "code",
      "source": [],
      "metadata": {
        "id": "EX9xp03JTYUb"
      },
      "execution_count": null,
      "outputs": []
    }
  ]
}