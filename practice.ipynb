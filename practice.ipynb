{
  "nbformat": 4,
  "nbformat_minor": 0,
  "metadata": {
    "colab": {
      "provenance": [],
      "authorship_tag": "ABX9TyMWvM4afeNFhuOQP0vukEER",
      "include_colab_link": true
    },
    "kernelspec": {
      "name": "python3",
      "display_name": "Python 3"
    },
    "language_info": {
      "name": "python"
    }
  },
  "cells": [
    {
      "cell_type": "markdown",
      "metadata": {
        "id": "view-in-github",
        "colab_type": "text"
      },
      "source": [
        "<a href=\"https://colab.research.google.com/github/sumitchhipa/python-learning/blob/main/practice.ipynb\" target=\"_parent\"><img src=\"https://colab.research.google.com/assets/colab-badge.svg\" alt=\"Open In Colab\"/></a>"
      ]
    },
    {
      "cell_type": "code",
      "source": [
        "def print_prime_numbers(yen):\n",
        "    \"\"\"Prints prime numbers from 1 to yen (inclusive).\"\"\"\n",
        "\n",
        "    if not isinstance(yen, int) or yen < 1:\n",
        "        print(\"Please provide a positive integer.\")\n",
        "        return\n",
        "\n",
        "    for num in range(2, yen + 1):\n",
        "        is_prime = True\n",
        "        for i in range(2, int(num**0.5) + 1):  # Optimized primality test\n",
        "            if num % i == 0:\n",
        "                is_prime = False\n",
        "                break\n",
        "        if is_prime:\n",
        "            print(num)\n",
        "\n",
        "# Example usage:\n",
        "yen = 20  # Replace with the desired upper limit\n",
        "print_prime_numbers(yen)\n"
      ],
      "metadata": {
        "colab": {
          "base_uri": "https://localhost:8080/"
        },
        "id": "45yJEo-TOOM3",
        "outputId": "018b318d-b6b9-486b-8805-c1d7272edd64"
      },
      "execution_count": null,
      "outputs": [
        {
          "output_type": "stream",
          "name": "stdout",
          "text": [
            "2\n",
            "3\n",
            "5\n",
            "7\n",
            "11\n",
            "13\n",
            "17\n",
            "19\n"
          ]
        }
      ]
    }
  ]
}