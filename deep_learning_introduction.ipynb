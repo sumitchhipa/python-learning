{
  "nbformat": 4,
  "nbformat_minor": 0,
  "metadata": {
    "colab": {
      "provenance": [],
      "authorship_tag": "ABX9TyPGd4Oqv1V20krQD42Zt+bv",
      "include_colab_link": true
    },
    "kernelspec": {
      "name": "python3",
      "display_name": "Python 3"
    },
    "language_info": {
      "name": "python"
    }
  },
  "cells": [
    {
      "cell_type": "markdown",
      "metadata": {
        "id": "view-in-github",
        "colab_type": "text"
      },
      "source": [
        "<a href=\"https://colab.research.google.com/github/sumitchhipa/python-learning/blob/main/deep_learning_introduction.ipynb\" target=\"_parent\"><img src=\"https://colab.research.google.com/assets/colab-badge.svg\" alt=\"Open In Colab\"/></a>"
      ]
    },
    {
      "cell_type": "code",
      "execution_count": 1,
      "metadata": {
        "id": "FVl0vh5cxSZ2"
      },
      "outputs": [],
      "source": [
        "# deep learning\n",
        "# representative learning\n",
        "# ml-- sciket learn, deep learning---tensorflow\n",
        "# architecture of ml\n",
        "# data--> data pre-processing-> select model ---> train a model---> prediction---> accuracy\n"
      ]
    },
    {
      "cell_type": "code",
      "source": [
        "# architecture of deep learning\n",
        "# data --> data preprocessing-->model=create an architecture(sequential)\n",
        "# input layer(random_neurons,activation function)\n",
        "# hidden layer(random_neurons,activation function)\n",
        "# output layer(based on target neurons, random_neurons,activation function)\n",
        "# model compile(optimizer ,loss function ,metrics score)\n",
        "# model.training---> model prediction ---> model losss, accuraccy.\n",
        "# brain---> neuron system----> artificial neuron system use---->model training and predictions\n"
      ],
      "metadata": {
        "id": "KXRv-05V3nbp"
      },
      "execution_count": 2,
      "outputs": []
    },
    {
      "cell_type": "code",
      "source": [
        "# types of deep learning\n",
        "# 1)ANN(artificial neural network)\n",
        "# 2)CNN(convolutional neural network)\n",
        "# 3)RNN (recurrent neural network)\n",
        "# what is loss function?--> diffrence between actual value and predicted value\n",
        "# optimizer-->this process is using for reduce or minimize the loss function\n",
        "#activation function ---> there are the mathaetical function that is used for convert our data into non linear format"
      ],
      "metadata": {
        "id": "Ekpmge6c47OV"
      },
      "execution_count": null,
      "outputs": []
    }
  ]
}