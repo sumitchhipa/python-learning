{
  "nbformat": 4,
  "nbformat_minor": 0,
  "metadata": {
    "colab": {
      "provenance": [],
      "authorship_tag": "ABX9TyOWfpbyBywelu9b69oO8k9+",
      "include_colab_link": true
    },
    "kernelspec": {
      "name": "python3",
      "display_name": "Python 3"
    },
    "language_info": {
      "name": "python"
    }
  },
  "cells": [
    {
      "cell_type": "markdown",
      "metadata": {
        "id": "view-in-github",
        "colab_type": "text"
      },
      "source": [
        "<a href=\"https://colab.research.google.com/github/sumitchhipa/python-learning/blob/main/assignment1.ipynb\" target=\"_parent\"><img src=\"https://colab.research.google.com/assets/colab-badge.svg\" alt=\"Open In Colab\"/></a>"
      ]
    },
    {
      "cell_type": "code",
      "execution_count": null,
      "metadata": {
        "id": "IC-1TlCI5-1f"
      },
      "outputs": [],
      "source": [
        "num = int(input(\"enter a number \"))\n",
        "\n",
        "if 2 <= num <= 5:\n",
        "    print(f\"multiplication table of {num}:\")\n",
        "    for i in range(1, 11):\n",
        "        print(f\"{num} x {i} = {num * i}\")\n",
        "else:\n",
        "    print(\"invalid input\")\n"
      ]
    },
    {
      "cell_type": "code",
      "source": [
        "num = int(input(\"enter a number \"))\n",
        "\n",
        "if 2 <= num <= 6:\n",
        "    print(f\"\\nMultiplication table of {num}:\")\n",
        "    for i in range(1, 11):\n",
        "        print(f\"{num} x {i} = {num * i}\")\n",
        "else:\n",
        "    print(\"envalid input\")\n"
      ],
      "metadata": {
        "id": "63C31DTF6c1X"
      },
      "execution_count": null,
      "outputs": []
    },
    {
      "cell_type": "code",
      "source": [
        "for num in range(6, 1, -1):\n",
        "    print(f\"\\nMultiplication table of {num} in reverse:\")\n",
        "    for i in range(10, 0, -1):\n",
        "        print(num * i, end=\" \")\n",
        "    print()\n"
      ],
      "metadata": {
        "id": "s9unfsvu6wq3"
      },
      "execution_count": null,
      "outputs": []
    },
    {
      "cell_type": "code",
      "source": [
        "num = int(input(\"Enter a number: \"))\n",
        "\n",
        "if num > 1:\n",
        "    is_prime = True\n",
        "    for i in range(2, num):\n",
        "        if num % i == 0:\n",
        "            is_prime = False\n",
        "            break\n",
        "    if is_prime:\n",
        "        print(f\"{num} is a prime number.\")\n",
        "    else:\n",
        "        print(f\"{num} is not a prime number.\")\n",
        "else:\n",
        "    print(f\"{num} is not a prime number.\")\n"
      ],
      "metadata": {
        "id": "PMlFuQrj68I4"
      },
      "execution_count": null,
      "outputs": []
    },
    {
      "cell_type": "code",
      "source": [
        "for num in range(2, 20):\n",
        "    is_prime = True\n",
        "    for i in range(2, num):\n",
        "        if num % i == 0:\n",
        "            is_prime = False\n",
        "            break\n",
        "    if is_prime:\n",
        "        print(num, end=\" \")\n"
      ],
      "metadata": {
        "id": "YlgTgR157tNz"
      },
      "execution_count": null,
      "outputs": []
    },
    {
      "cell_type": "code",
      "source": [
        "for i in range(4, 0, -1):\n",
        "    print('*' * i)\n"
      ],
      "metadata": {
        "id": "DCSEE8xC79-U"
      },
      "execution_count": null,
      "outputs": []
    },
    {
      "cell_type": "code",
      "source": [
        "for i in range(4, 0, -1):\n",
        "    print('$' * i + '*' * (5 - i))\n"
      ],
      "metadata": {
        "id": "Y_4B1uvk8Az1"
      },
      "execution_count": null,
      "outputs": []
    },
    {
      "cell_type": "code",
      "source": [],
      "metadata": {
        "id": "RLBtJDBL8CP2"
      },
      "execution_count": null,
      "outputs": []
    }
  ]
}