{
  "nbformat": 4,
  "nbformat_minor": 0,
  "metadata": {
    "colab": {
      "provenance": [],
      "authorship_tag": "ABX9TyPLoUD8odHRqfJPbWI4xJHA",
      "include_colab_link": true
    },
    "kernelspec": {
      "name": "python3",
      "display_name": "Python 3"
    },
    "language_info": {
      "name": "python"
    }
  },
  "cells": [
    {
      "cell_type": "markdown",
      "metadata": {
        "id": "view-in-github",
        "colab_type": "text"
      },
      "source": [
        "<a href=\"https://colab.research.google.com/github/sumitchhipa/python-learning/blob/main/Naive_bais.ipynb\" target=\"_parent\"><img src=\"https://colab.research.google.com/assets/colab-badge.svg\" alt=\"Open In Colab\"/></a>"
      ]
    },
    {
      "cell_type": "code",
      "execution_count": 4,
      "metadata": {
        "colab": {
          "base_uri": "https://localhost:8080/"
        },
        "id": "oKA-DkvBQBLF",
        "outputId": "fd340e25-d98b-49d6-ebc4-3578ac4e95e5"
      },
      "outputs": [
        {
          "output_type": "stream",
          "name": "stdout",
          "text": [
            "-->this is a test meeting-Not spam-->[0.77419355 0.22580645]\n",
            "['Not spam']\n",
            "[[0.77419355 0.22580645]]\n"
          ]
        }
      ],
      "source": [
        "from sklearn.feature_extraction.text import CountVectorizer\n",
        "from sklearn.naive_bayes import MultinomialNB\n",
        "from sklearn.pipeline import make_pipeline\n",
        "# dataset\n",
        "texts=['buy cheap meds now',\n",
        "       'cheap pills online',\n",
        "       'get discount now',\n",
        "       'meeting at office',\n",
        "       'project disscussion',\n",
        "       'schedule a meeting']\n",
        "\n",
        "labels=['spam','spam','spam','Not spam','Not spam','Not spam']\n",
        "model=make_pipeline(CountVectorizer(),MultinomialNB(alpha=1.0))\n",
        "# Fit the model with both the texts (features) and labels (target)\n",
        "model.fit(texts, labels)\n",
        "# You also need a test message to predict on\n",
        "test_message = [\"this is a test meeting\"]\n",
        "predicted=model.predict(test_message)\n",
        "probs=model.predict_proba(test_message)\n",
        "for msg,label,prob in zip(test_message,predicted,probs):\n",
        "    print(f\"-->{msg}-{label}-->{prob}\")\n",
        "print(predicted)\n",
        "print(probs)"
      ]
    },
    {
      "cell_type": "code",
      "source": [],
      "metadata": {
        "id": "e2K9IZGqS1ij"
      },
      "execution_count": null,
      "outputs": []
    }
  ]
}