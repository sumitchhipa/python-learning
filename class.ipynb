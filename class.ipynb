{
  "nbformat": 4,
  "nbformat_minor": 0,
  "metadata": {
    "colab": {
      "provenance": [],
      "authorship_tag": "ABX9TyNKUPSz3M+ev0/FKYxvg2Qi",
      "include_colab_link": true
    },
    "kernelspec": {
      "name": "python3",
      "display_name": "Python 3"
    },
    "language_info": {
      "name": "python"
    }
  },
  "cells": [
    {
      "cell_type": "markdown",
      "metadata": {
        "id": "view-in-github",
        "colab_type": "text"
      },
      "source": [
        "<a href=\"https://colab.research.google.com/github/sumitchhipa/python-learning/blob/main/class.ipynb\" target=\"_parent\"><img src=\"https://colab.research.google.com/assets/colab-badge.svg\" alt=\"Open In Colab\"/></a>"
      ]
    },
    {
      "cell_type": "code",
      "execution_count": 7,
      "metadata": {
        "colab": {
          "base_uri": "https://localhost:8080/"
        },
        "id": "V7GTxFabRcC1",
        "outputId": "ee482288-7412-48ab-f23f-34fcd1009661"
      },
      "outputs": [
        {
          "output_type": "stream",
          "name": "stdout",
          "text": [
            "Add has a totalpd=f30\n"
          ]
        }
      ],
      "source": [
        "class Addno:\n",
        "    def __init__(self,a,b):\n",
        "        self.total=a+b\n",
        "    def __repr__(self):\n",
        "        return f\"Add has a totalpd=f{self.total}\"\n",
        "a1=Addno(10,20)\n",
        "print(a1)"
      ]
    },
    {
      "cell_type": "code",
      "source": [],
      "metadata": {
        "id": "VjqaV3ZwS3jw"
      },
      "execution_count": null,
      "outputs": []
    }
  ]
}