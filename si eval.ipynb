{
  "cells": [
    {
      "cell_type": "markdown",
      "metadata": {
        "id": "view-in-github",
        "colab_type": "text"
      },
      "source": [
        "<a href=\"https://colab.research.google.com/github/sumitchhipa/python-learning/blob/main/si%20eval.ipynb\" target=\"_parent\"><img src=\"https://colab.research.google.com/assets/colab-badge.svg\" alt=\"Open In Colab\"/></a>"
      ]
    },
    {
      "cell_type": "code",
      "execution_count": null,
      "id": "02813f2a",
      "metadata": {
        "id": "02813f2a"
      },
      "outputs": [],
      "source": [
        "# Pipeline ---->\n",
        "\n",
        "# Steps of rules  ----> first step output ---> second step input ----> second step output ---->\n",
        "# third step input .......----> Pipeline ."
      ]
    },
    {
      "cell_type": "code",
      "execution_count": null,
      "id": "c69d4fea",
      "metadata": {
        "id": "c69d4fea"
      },
      "outputs": [],
      "source": [
        "# Equation of simple line is :\n",
        "# y = mx + b  .....(1)    where m = weights , b = intercept\n",
        "# y_pred = mx + b\n",
        "\n",
        "# Loss Function ----> Difference between Actual value and Predicted value .\n",
        "# Now we will calculate Loss w.r.t. Mean Squared Error\n",
        "\n",
        "# L = 1/n* (y-y_pred)**2    ...... n = n(features)  = 1\n",
        "\n",
        "# L = (y-y_p)**2 .....(2)\n",
        "# L = (y-(mx+b))**2\n",
        "# L = (y-mx-b)**2\n",
        "\n",
        "# Now we will calculate Loss w.r.t. Intercept(b)\n",
        "# dL/db = d(y-mx-b)**2/db\n",
        "# dL/db = 2(y-mx-b)*[dy/db - dmx/db - db/db]\n",
        "# dL/db = 2(y-mx-b)[0-0-1]\n",
        "# dL/db = -2(y-mx-b) ....................(3)\n",
        "\n",
        "\n",
        "# Now we will calculate Loss w.r.t weights(m)\n",
        "# dL/dm = d(y-mx-b)**2 /dm\n",
        "# dL/dm = 2(y-mx-b)*[dy/dm-dmx/dm-db/dm]\n",
        "# dL/dm = 2(y-mx-b)*[0-x-0]\n",
        "# dL/dm = -2(x)(y-mx-b)   .......................(4)\n",
        "\n",
        "\n",
        "# b_new = b_old - leanrning_rate* dL/db     ------(5)\n",
        "# m_new = m_old - learning_rate* dL/dm      -------(6)\n",
        "\n",
        "# b_old = 50 , dL/db = 100 = b_new = -50  , 150\n",
        "\n",
        "# Learning_rate = in general vaule (0.01)\n",
        "# b_new = 50 - 0.01*(100) = 50 - 1/100 * 100 = 50 -1 = 49\n",
        "\n",
        "# If Learning_rate ~ 1 ----> zig-zag situation ---> Gradient Exploading  .\n",
        "# If Learning_rate ~ 0 -----> Vanishing Gradient .\n",
        "\n",
        "\n",
        "# So , Equation of New Line will be .......\n",
        "\n",
        "# y = m_new* X + b_new   ........(7)"
      ]
    }
  ],
  "metadata": {
    "kernelspec": {
      "display_name": "Python 3 (ipykernel)",
      "language": "python",
      "name": "python3"
    },
    "language_info": {
      "codemirror_mode": {
        "name": "ipython",
        "version": 3
      },
      "file_extension": ".py",
      "mimetype": "text/x-python",
      "name": "python",
      "nbconvert_exporter": "python",
      "pygments_lexer": "ipython3",
      "version": "3.9.12"
    },
    "colab": {
      "provenance": [],
      "include_colab_link": true
    }
  },
  "nbformat": 4,
  "nbformat_minor": 5
}