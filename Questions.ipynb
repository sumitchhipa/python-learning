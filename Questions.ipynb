{
  "nbformat": 4,
  "nbformat_minor": 0,
  "metadata": {
    "colab": {
      "provenance": [],
      "authorship_tag": "ABX9TyOeg13tEFJcDYGjmxZ0jFPy",
      "include_colab_link": true
    },
    "kernelspec": {
      "name": "python3",
      "display_name": "Python 3"
    },
    "language_info": {
      "name": "python"
    }
  },
  "cells": [
    {
      "cell_type": "markdown",
      "metadata": {
        "id": "view-in-github",
        "colab_type": "text"
      },
      "source": [
        "<a href=\"https://colab.research.google.com/github/sumitchhipa/python-learning/blob/main/Questions.ipynb\" target=\"_parent\"><img src=\"https://colab.research.google.com/assets/colab-badge.svg\" alt=\"Open In Colab\"/></a>"
      ]
    },
    {
      "cell_type": "code",
      "execution_count": null,
      "metadata": {
        "id": "1AMExQqCjoO5"
      },
      "outputs": [],
      "source": [
        "# 20previouse\n",
        "# 12today\n",
        "# what is sigmoid functioin why it is used in logistic regression?\n",
        "# how does  logistic reg diffrent from linear regression?\n",
        "# what does the output ofn logistic regression x represnt\n",
        "# what are the assumptions of logistic regression?\n",
        "# what is multi colinearity and how does is affect logistic regression\n",
        "# how do you interpret model co efficients in logistic regression\n",
        "# how do you handel imbalance data in logistic regression\n",
        "# what is a decision tree\n",
        "# how does a decision tree make predctions\n",
        "# what are the key componants of deciosion tree\n",
        "# what are the diffrence between classification and decioson tree/\n",
        "# what are the leaf node or internal nodes\n",
        "# what are the gini impurity and entropy\n",
        "# waht is overfitting in decision tree and how can be prevented\n",
        "# what is pruning and why it is necessary\n",
        "# what are the stopping critariea of a decession tree\n",
        "# waht is the role of max depth minimum sample split and min samples leaf\n",
        "# how does a decision tree handel missing values\n",
        "# what is diffrence between supervised and unsupervised ml model\n",
        "# feature randomness in random forest\n",
        "# what are out of bag sample\n",
        "# what are the key hyperparameters in RF\n",
        "# how does RF(randomforest) handel imbalance datasets\n",
        "# what is naive baias algo why it is called naive\n",
        "# what are the assumptions of naive bayes\n",
        "# what are the diffrenence between gaussian and multinomial and bernolium naive bayes\n",
        "# how does naive baies handel continouse vs categorical variable\n"
      ]
    }
  ]
}