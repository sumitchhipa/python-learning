{
  "nbformat": 4,
  "nbformat_minor": 0,
  "metadata": {
    "colab": {
      "provenance": [],
      "authorship_tag": "ABX9TyNjqBgrqzAV9nwgbdTWgnpD",
      "include_colab_link": true
    },
    "kernelspec": {
      "name": "python3",
      "display_name": "Python 3"
    },
    "language_info": {
      "name": "python"
    }
  },
  "cells": [
    {
      "cell_type": "markdown",
      "metadata": {
        "id": "view-in-github",
        "colab_type": "text"
      },
      "source": [
        "<a href=\"https://colab.research.google.com/github/sumitchhipa/python-learning/blob/main/dictionary_and_list.ipynb\" target=\"_parent\"><img src=\"https://colab.research.google.com/assets/colab-badge.svg\" alt=\"Open In Colab\"/></a>"
      ]
    },
    {
      "cell_type": "code",
      "execution_count": null,
      "metadata": {
        "colab": {
          "base_uri": "https://localhost:8080/"
        },
        "id": "Gs5PBUoOT07x",
        "outputId": "83b05d31-959b-4ed2-b0ea-6b5096521901"
      },
      "outputs": [
        {
          "output_type": "stream",
          "name": "stdout",
          "text": [
            "valid\n"
          ]
        }
      ],
      "source": [
        "#valid paranthisis\n",
        "s=\")\"\n",
        "mylist=[]\n",
        "x=0\n",
        "for char in s:\n",
        "  if char==\"(\":\n",
        "    mylist.append(char)\n",
        "  elif(mylist):\n",
        "    if(char==\")\" and \"(\"!=mylist.pop()):\n",
        "     x=1\n",
        "     break\n",
        "    else:\n",
        "      x=1\n",
        "  if(x==1 or len(mylist)>0):\n",
        "   print(\"invalid\")\n",
        "  else:\n",
        "    print(\"valid\")\n",
        "\n"
      ]
    },
    {
      "cell_type": "code",
      "source": [
        "dict1={1:\"hey\"}\n",
        "dict2={2:\"bye\"}\n",
        "for key in dict1:\n",
        "  if dict1==dict2:\n",
        "  print(\"valid\")\n",
        "  else:\n",
        "  print(\"not valid\")\n",
        "\n"
      ],
      "metadata": {
        "colab": {
          "base_uri": "https://localhost:8080/",
          "height": 109
        },
        "collapsed": true,
        "id": "Bhoq905CVELL",
        "outputId": "8f5920ca-b929-481e-dc43-1995584e7367"
      },
      "execution_count": null,
      "outputs": [
        {
          "output_type": "error",
          "ename": "IndentationError",
          "evalue": "expected an indented block after 'if' statement on line 4 (<ipython-input-12-7c290567e769>, line 5)",
          "traceback": [
            "\u001b[0;36m  File \u001b[0;32m\"<ipython-input-12-7c290567e769>\"\u001b[0;36m, line \u001b[0;32m5\u001b[0m\n\u001b[0;31m    print(\"valid\")\u001b[0m\n\u001b[0m    ^\u001b[0m\n\u001b[0;31mIndentationError\u001b[0m\u001b[0;31m:\u001b[0m expected an indented block after 'if' statement on line 4\n"
          ]
        }
      ]
    },
    {
      "cell_type": "code",
      "source": [],
      "metadata": {
        "id": "sW8FJr61cOfX"
      },
      "execution_count": null,
      "outputs": []
    }
  ]
}