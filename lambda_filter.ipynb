{
  "nbformat": 4,
  "nbformat_minor": 0,
  "metadata": {
    "colab": {
      "provenance": [],
      "authorship_tag": "ABX9TyO516BCfa6UYvqm9ueMKffH",
      "include_colab_link": true
    },
    "kernelspec": {
      "name": "python3",
      "display_name": "Python 3"
    },
    "language_info": {
      "name": "python"
    }
  },
  "cells": [
    {
      "cell_type": "markdown",
      "metadata": {
        "id": "view-in-github",
        "colab_type": "text"
      },
      "source": [
        "<a href=\"https://colab.research.google.com/github/sumitchhipa/python-learning/blob/main/lambda_filter.ipynb\" target=\"_parent\"><img src=\"https://colab.research.google.com/assets/colab-badge.svg\" alt=\"Open In Colab\"/></a>"
      ]
    },
    {
      "cell_type": "code",
      "execution_count": null,
      "metadata": {
        "colab": {
          "base_uri": "https://localhost:8080/"
        },
        "id": "uJZuTOsmb2JG",
        "outputId": "d22e6441-c241-4f02-b679-d797aa14c13d"
      },
      "outputs": [
        {
          "output_type": "stream",
          "name": "stdout",
          "text": [
            "7+ 17\n",
            "im here for\n",
            " you guys\\what are you doing\n",
            "hello-6-7 +"
          ]
        }
      ],
      "source": [
        "print(\"7+\",8+9)\n",
        "print(\"im here for\\n you guys\\what are you doing\")\n",
        "print(\"hello\",6,7,sep=\"-\",end=\" +\")"
      ]
    },
    {
      "cell_type": "code",
      "source": [
        "# lambda>> a lambda function can take any number of arguments but can\n",
        "                              # only  have one expression.\n",
        "# syntax: lambda arguments : expression\n",
        "x= lambda a:a+5\n",
        "print(\"total value=\",x(2))"
      ],
      "metadata": {
        "colab": {
          "base_uri": "https://localhost:8080/"
        },
        "id": "zJI9m_JYb4nl",
        "outputId": "d06411cb-ea71-4180-bcc7-85e2edc8ab57"
      },
      "execution_count": null,
      "outputs": [
        {
          "output_type": "stream",
          "name": "stdout",
          "text": [
            "total value= 7\n"
          ]
        }
      ]
    },
    {
      "cell_type": "code",
      "source": [
        "# # filter function=> the filter function returns an iterator where the\n",
        "# item are filterd through a function to test, if the item is accepted return\n",
        "# true or false\n",
        "ages=[25,12,2,6,6,5,6,6]\n",
        "def myfunc():\n",
        "  if(x<=18):\n",
        "    return True\n",
        "  else:\n",
        "    return False\n",
        "    kid=list(filter(myfunc,ages))\n",
        "    print(kid)\n",
        "    for x in kid:\n",
        "      print(x)\n"
      ],
      "metadata": {
        "id": "PIuVYt2dn3Cr"
      },
      "execution_count": null,
      "outputs": []
    },
    {
      "cell_type": "code",
      "source": [
        "#map function => te map func excecutes a specified function for each item\n",
        "# in a iterable\n",
        "a=[\"3\",\"45\",\"89\"]\n",
        "print(a)\n",
        "for i in range(len(a)):\n",
        "  a[i]=int(a[i])\n",
        "print(a)\n"
      ],
      "metadata": {
        "colab": {
          "base_uri": "https://localhost:8080/"
        },
        "id": "nB_95ZjQpUM-",
        "outputId": "5e8e107f-9376-4a1a-db6a-b3a5531038a7"
      },
      "execution_count": null,
      "outputs": [
        {
          "output_type": "stream",
          "name": "stdout",
          "text": [
            "['3', '45', '89']\n",
            "[3, 45, 89]\n"
          ]
        }
      ]
    },
    {
      "cell_type": "code",
      "source": [
        "# method2\n",
        "b=list(map(int,a))\n",
        "print(b[2])==b[2]+1\n",
        "print(b[2])\n",
        "\n"
      ],
      "metadata": {
        "colab": {
          "base_uri": "https://localhost:8080/"
        },
        "id": "IbuNxvD5qFvt",
        "outputId": "39433bbd-893d-4184-a635-ec990e7c2cd6"
      },
      "execution_count": null,
      "outputs": [
        {
          "output_type": "stream",
          "name": "stdout",
          "text": [
            "89\n",
            "89\n"
          ]
        }
      ]
    },
    {
      "cell_type": "code",
      "source": [
        "a=[10,2,2,5,5,3,4]\n",
        "def s():\n",
        "  a[i]*a[i]\n",
        "  print(a[i])\n",
        "s()"
      ],
      "metadata": {
        "colab": {
          "base_uri": "https://localhost:8080/"
        },
        "id": "kVnOJY44qjHi",
        "outputId": "aeed34c5-5f36-47d7-89ab-9b409063cff8"
      },
      "execution_count": null,
      "outputs": [
        {
          "output_type": "stream",
          "name": "stdout",
          "text": [
            "2\n"
          ]
        }
      ]
    },
    {
      "cell_type": "code",
      "source": [],
      "metadata": {
        "id": "opMjWVHEtEkO"
      },
      "execution_count": null,
      "outputs": []
    }
  ]
}