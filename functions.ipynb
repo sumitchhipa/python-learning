{
  "nbformat": 4,
  "nbformat_minor": 0,
  "metadata": {
    "colab": {
      "provenance": [],
      "authorship_tag": "ABX9TyNY1vAv5eyzkTYzZrEYYAhz",
      "include_colab_link": true
    },
    "kernelspec": {
      "name": "python3",
      "display_name": "Python 3"
    },
    "language_info": {
      "name": "python"
    }
  },
  "cells": [
    {
      "cell_type": "markdown",
      "metadata": {
        "id": "view-in-github",
        "colab_type": "text"
      },
      "source": [
        "<a href=\"https://colab.research.google.com/github/sumitchhipa/python-learning/blob/main/functions.ipynb\" target=\"_parent\"><img src=\"https://colab.research.google.com/assets/colab-badge.svg\" alt=\"Open In Colab\"/></a>"
      ]
    },
    {
      "cell_type": "code",
      "execution_count": null,
      "metadata": {
        "colab": {
          "base_uri": "https://localhost:8080/"
        },
        "id": "vaYGJgxhtJ8w",
        "outputId": "eb2f71ce-e31d-4bbe-da05-42d6e96d9bc6"
      },
      "outputs": [
        {
          "output_type": "stream",
          "name": "stdout",
          "text": [
            "hlo sumit\n",
            "hlo sumit\n"
          ]
        }
      ],
      "source": [
        "#function is nothing but an block of code\n",
        "#we can use it for converting your code into smaller portion of code\n",
        "#help in reusabilty\n",
        "#debugging\n",
        "def hello():\n",
        "  print(\"hlo\",end=\" \")\n",
        "  print(\"sumit\")\n",
        "\n",
        "hello()\n",
        "hello()"
      ]
    },
    {
      "cell_type": "code",
      "source": [
        "def hello(z,a):#locaal variable\n",
        "  print(z,a,end=\" \")\n",
        "  print(\"sumit\")\n",
        "\n",
        "hello(\"ummmm\",\"yes\")"
      ],
      "metadata": {
        "colab": {
          "base_uri": "https://localhost:8080/"
        },
        "id": "EgQylKHcvgxw",
        "outputId": "38c12855-ade9-4d0b-9474-e4dc323f3f8d"
      },
      "execution_count": null,
      "outputs": [
        {
          "output_type": "stream",
          "name": "stdout",
          "text": [
            "ummmm yes sumit\n"
          ]
        }
      ]
    },
    {
      "cell_type": "code",
      "source": [
        "x=10#global variable\n",
        "def hello():\n",
        "  print(\"hlo\",end=\" \")\n",
        "  print(\"sumit\",x)\n",
        "\n",
        "hello()\n",
        "hello()\n",
        "print(x)"
      ],
      "metadata": {
        "colab": {
          "base_uri": "https://localhost:8080/"
        },
        "id": "h5aJYVJJximj",
        "outputId": "bffe5094-2188-42f4-a650-ee0bac2cfe11"
      },
      "execution_count": null,
      "outputs": [
        {
          "output_type": "stream",
          "name": "stdout",
          "text": [
            "hlo sumit 10\n",
            "hlo sumit 10\n",
            "10\n"
          ]
        }
      ]
    },
    {
      "cell_type": "code",
      "source": [
        "x=10#global variable\n",
        "def hello():\n",
        "  x=40 #global local\n",
        "  print(\"hlo\",end=\" \")\n",
        "  print(\"sumit\",x)\n",
        "\n",
        "hello()\n",
        "hello()\n",
        "print(x)"
      ],
      "metadata": {
        "colab": {
          "base_uri": "https://localhost:8080/"
        },
        "id": "S0C5cArbyawr",
        "outputId": "0917c90f-a173-4451-f101-69ecc9dbd1ed"
      },
      "execution_count": null,
      "outputs": [
        {
          "output_type": "stream",
          "name": "stdout",
          "text": [
            "hlo sumit 40\n",
            "hlo sumit 40\n",
            "10\n"
          ]
        }
      ]
    },
    {
      "cell_type": "code",
      "source": [
        "x=10#global variable\n",
        "def hello():\n",
        "  global x #global local\n",
        "  x=50# if ypu want made global changes\n",
        "  print(\"hlo\",end=\" \")\n",
        "  print(\"sumit\",x)\n",
        "\n",
        "hello()\n",
        "hello()\n",
        "print(x)"
      ],
      "metadata": {
        "colab": {
          "base_uri": "https://localhost:8080/"
        },
        "id": "CkQbvY1bzH8I",
        "outputId": "e82934b9-dd15-4564-fd5a-d1e25d3f0353"
      },
      "execution_count": null,
      "outputs": [
        {
          "output_type": "stream",
          "name": "stdout",
          "text": [
            "hlo sumit 50\n",
            "hlo sumit 50\n",
            "50\n"
          ]
        }
      ]
    },
    {
      "cell_type": "code",
      "source": [
        "x=10\n",
        "def func():#xlocal\n",
        "  global x\n",
        "  print(\"hey\",x)# so we can't access same varibale as globally\n",
        "func(\"sumit\")"
      ],
      "metadata": {
        "colab": {
          "base_uri": "https://localhost:8080/",
          "height": 181
        },
        "id": "Cn7AxH0bzh3E",
        "outputId": "0b4f5796-9617-488b-919b-9231fcad5dd9"
      },
      "execution_count": null,
      "outputs": [
        {
          "output_type": "error",
          "ename": "TypeError",
          "evalue": "func() takes 0 positional arguments but 1 was given",
          "traceback": [
            "\u001b[0;31m---------------------------------------------------------------------------\u001b[0m",
            "\u001b[0;31mTypeError\u001b[0m                                 Traceback (most recent call last)",
            "\u001b[0;32m<ipython-input-28-9d19c0a2b56e>\u001b[0m in \u001b[0;36m<cell line: 0>\u001b[0;34m()\u001b[0m\n\u001b[1;32m      3\u001b[0m   \u001b[0;32mglobal\u001b[0m \u001b[0mx\u001b[0m\u001b[0;34m\u001b[0m\u001b[0;34m\u001b[0m\u001b[0m\n\u001b[1;32m      4\u001b[0m   \u001b[0mprint\u001b[0m\u001b[0;34m(\u001b[0m\u001b[0;34m\"hey\"\u001b[0m\u001b[0;34m,\u001b[0m\u001b[0mx\u001b[0m\u001b[0;34m)\u001b[0m\u001b[0;34m\u001b[0m\u001b[0;34m\u001b[0m\u001b[0m\n\u001b[0;32m----> 5\u001b[0;31m \u001b[0mfunc\u001b[0m\u001b[0;34m(\u001b[0m\u001b[0;34m\"sumit\"\u001b[0m\u001b[0;34m)\u001b[0m\u001b[0;34m\u001b[0m\u001b[0;34m\u001b[0m\u001b[0m\n\u001b[0m",
            "\u001b[0;31mTypeError\u001b[0m: func() takes 0 positional arguments but 1 was given"
          ]
        }
      ]
    },
    {
      "cell_type": "code",
      "source": [
        "#valid paranthiss also with dictionary\n",
        "#number(integer) to roman\n",
        "#list comprehension\n",
        "#dictionary comprehension"
      ],
      "metadata": {
        "id": "XjLbsm3z0vk9"
      },
      "execution_count": null,
      "outputs": []
    }
  ]
}