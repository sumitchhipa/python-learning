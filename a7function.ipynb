{
  "nbformat": 4,
  "nbformat_minor": 0,
  "metadata": {
    "colab": {
      "provenance": [],
      "authorship_tag": "ABX9TyMpqJgzSIeBx5bovo1Yj2Z+",
      "include_colab_link": true
    },
    "kernelspec": {
      "name": "python3",
      "display_name": "Python 3"
    },
    "language_info": {
      "name": "python"
    }
  },
  "cells": [
    {
      "cell_type": "markdown",
      "metadata": {
        "id": "view-in-github",
        "colab_type": "text"
      },
      "source": [
        "<a href=\"https://colab.research.google.com/github/sumitchhipa/python-learning/blob/main/a7function.ipynb\" target=\"_parent\"><img src=\"https://colab.research.google.com/assets/colab-badge.svg\" alt=\"Open In Colab\"/></a>"
      ]
    },
    {
      "cell_type": "code",
      "execution_count": null,
      "metadata": {
        "colab": {
          "base_uri": "https://localhost:8080/"
        },
        "id": "m49D039Tjhun",
        "outputId": "b3cfcb5d-121b-4d0d-ab6a-70a66da56ad0"
      },
      "outputs": [
        {
          "output_type": "stream",
          "name": "stdout",
          "text": [
            "321\n"
          ]
        }
      ],
      "source": [
        "i =123\n",
        "rev=0\n",
        "while(i>0):\n",
        "  rev=(rev*10)+i%10\n",
        "  i=i//10\n",
        "print(rev)\n"
      ]
    },
    {
      "cell_type": "code",
      "source": [
        "def reverse():\n",
        "  i =123\n",
        "  rev=0\n",
        "  while(i>0):\n",
        "    rev=(rev*10)+i%10\n",
        "    i=i//10\n",
        "  print(rev)\n",
        "reverse()"
      ],
      "metadata": {
        "colab": {
          "base_uri": "https://localhost:8080/"
        },
        "id": "Wktyo3Dnj8LC",
        "outputId": "cd0dfdae-836e-49a8-a935-6ceb67421d88"
      },
      "execution_count": null,
      "outputs": [
        {
          "output_type": "stream",
          "name": "stdout",
          "text": [
            "321\n"
          ]
        }
      ]
    },
    {
      "cell_type": "code",
      "source": [
        "def reverse(i):\n",
        "  rev=0\n",
        "  while(i>0):\n",
        "    rev=(rev*10)+i%10\n",
        "    i=i//10\n",
        "  print(rev)\n",
        "reverse(int(input(\"enter any number\")))"
      ],
      "metadata": {
        "id": "wmai8ZyqkLA7",
        "colab": {
          "base_uri": "https://localhost:8080/"
        },
        "outputId": "cb9ebc66-7785-47ca-b6c2-ffc24180ccc1"
      },
      "execution_count": null,
      "outputs": [
        {
          "output_type": "stream",
          "name": "stdout",
          "text": [
            "enter any number25\n",
            "52\n"
          ]
        }
      ]
    },
    {
      "cell_type": "code",
      "source": [
        "i= 12345\n",
        "even=0\n",
        "odd=0\n",
        "while(i>0):\n",
        "  d=i%10\n",
        "  if(d%2==0):\n",
        "    even=even+d\n",
        "  else:\n",
        "    odd=odd+d\n",
        "  i=i//10\n",
        "print(\"sum of even number is\",even,\"sum of odd is\",odd)"
      ],
      "metadata": {
        "id": "WBNzjtl_kazU",
        "colab": {
          "base_uri": "https://localhost:8080/"
        },
        "outputId": "d0ccf7da-c738-4868-e0ae-4b678c0e5329"
      },
      "execution_count": null,
      "outputs": [
        {
          "output_type": "stream",
          "name": "stdout",
          "text": [
            "sum of even number is 6 sum of odd is 9\n"
          ]
        }
      ]
    },
    {
      "cell_type": "code",
      "source": [],
      "metadata": {
        "id": "QGsUy7lEoPJ9"
      },
      "execution_count": null,
      "outputs": []
    }
  ]
}