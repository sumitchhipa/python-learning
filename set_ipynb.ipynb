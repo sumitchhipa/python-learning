{
  "nbformat": 4,
  "nbformat_minor": 0,
  "metadata": {
    "colab": {
      "provenance": [],
      "authorship_tag": "ABX9TyP+xRS6byITdeS2gKl9mS8R",
      "include_colab_link": true
    },
    "kernelspec": {
      "name": "python3",
      "display_name": "Python 3"
    },
    "language_info": {
      "name": "python"
    }
  },
  "cells": [
    {
      "cell_type": "markdown",
      "metadata": {
        "id": "view-in-github",
        "colab_type": "text"
      },
      "source": [
        "<a href=\"https://colab.research.google.com/github/sumitchhipa/python-learning/blob/main/set_ipynb.ipynb\" target=\"_parent\"><img src=\"https://colab.research.google.com/assets/colab-badge.svg\" alt=\"Open In Colab\"/></a>"
      ]
    },
    {
      "cell_type": "code",
      "execution_count": 12,
      "metadata": {
        "colab": {
          "base_uri": "https://localhost:8080/"
        },
        "id": "ymudtqItnmok",
        "outputId": "3269c113-6c38-4e1b-acfc-76cd0c1cc051"
      },
      "outputs": [
        {
          "output_type": "stream",
          "name": "stdout",
          "text": [
            "{2, 20, 202, 30}\n"
          ]
        }
      ],
      "source": [
        "set2 = {20, 30, 202, 2, 26}\n",
        "set1 = {135, 26, 55, 56, 25}\n",
        "# Correcting the typo in the method name: difference_update\n",
        "set2.difference_update(set1)\n",
        "# Printing the updated set2\n",
        "print(set2)"
      ]
    },
    {
      "cell_type": "code",
      "source": [
        "set1 = {1, 2, 3, 4}\n",
        "set2 = {3, 4, 5, 6}\n",
        "\n",
        "result = set1.difference(set2).union(set2.difference(set1))\n",
        "print(result)\n"
      ],
      "metadata": {
        "colab": {
          "base_uri": "https://localhost:8080/"
        },
        "id": "Vlh-4Vb0n-Tj",
        "outputId": "b140834a-f60e-49e7-a6be-8d0617c41a16"
      },
      "execution_count": 13,
      "outputs": [
        {
          "output_type": "stream",
          "name": "stdout",
          "text": [
            "{1, 2, 5, 6}\n"
          ]
        }
      ]
    },
    {
      "cell_type": "code",
      "source": [
        "set1 = {1, 2, 3}\n",
        "set2 = {4, 5, 6}\n",
        "set3 = {3, 4, 5}\n",
        "print(set1.isdisjoint(set2))\n",
        "print(set1.isdisjoint(set3))\n"
      ],
      "metadata": {
        "colab": {
          "base_uri": "https://localhost:8080/"
        },
        "id": "H8ii0QXSpnFV",
        "outputId": "17b2427e-541e-4221-a6ef-c2e6633736b2"
      },
      "execution_count": 16,
      "outputs": [
        {
          "output_type": "stream",
          "name": "stdout",
          "text": [
            "True\n",
            "False\n"
          ]
        }
      ]
    },
    {
      "cell_type": "code",
      "source": [
        "set1 = {1, 2, 3, 4, 5}\n",
        "set2 = {3, 4}\n",
        "print(set1 >= set2)\n",
        "print(set1.issuperset(set2))\n"
      ],
      "metadata": {
        "colab": {
          "base_uri": "https://localhost:8080/"
        },
        "id": "Wt3Yduf8qcPg",
        "outputId": "1cc13f94-dcdc-4354-8ff2-853acc556f36"
      },
      "execution_count": 15,
      "outputs": [
        {
          "output_type": "stream",
          "name": "stdout",
          "text": [
            "True\n",
            "True\n"
          ]
        }
      ]
    },
    {
      "cell_type": "code",
      "source": [],
      "metadata": {
        "id": "I69Lx-yiqoY3"
      },
      "execution_count": null,
      "outputs": []
    }
  ]
}