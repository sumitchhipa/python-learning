{
  "nbformat": 4,
  "nbformat_minor": 0,
  "metadata": {
    "colab": {
      "provenance": [],
      "authorship_tag": "ABX9TyNUopaOYk/BQmL+xIPQlXeF",
      "include_colab_link": true
    },
    "kernelspec": {
      "name": "python3",
      "display_name": "Python 3"
    },
    "language_info": {
      "name": "python"
    }
  },
  "cells": [
    {
      "cell_type": "markdown",
      "metadata": {
        "id": "view-in-github",
        "colab_type": "text"
      },
      "source": [
        "<a href=\"https://colab.research.google.com/github/sumitchhipa/python-learning/blob/main/variable_length_argument.ipynb\" target=\"_parent\"><img src=\"https://colab.research.google.com/assets/colab-badge.svg\" alt=\"Open In Colab\"/></a>"
      ]
    },
    {
      "cell_type": "code",
      "execution_count": 3,
      "metadata": {
        "colab": {
          "base_uri": "https://localhost:8080/"
        },
        "id": "7etJ5r9UWP0z",
        "outputId": "b613eb66-8c1f-4782-ed4e-52dc002e9e81"
      },
      "outputs": [
        {
          "output_type": "stream",
          "name": "stdout",
          "text": [
            "() <class 'tuple'>\n",
            "(10, 20) <class 'tuple'>\n"
          ]
        }
      ],
      "source": [
        "def fun(*data):\n",
        "    print(data,type(data))\n",
        "\n",
        "fun()\n",
        "fun(10,20)"
      ]
    },
    {
      "cell_type": "code",
      "source": [
        "def fun(**data):\n",
        "    print(data,type(data))\n",
        "\n",
        "fun(edi=10,salary=1000,name='sumit')"
      ],
      "metadata": {
        "colab": {
          "base_uri": "https://localhost:8080/"
        },
        "id": "VffGegkrWuMt",
        "outputId": "54184922-d8f5-4988-a1c9-1828b90f48f5"
      },
      "execution_count": 8,
      "outputs": [
        {
          "output_type": "stream",
          "name": "stdout",
          "text": [
            "{'edi': 10, 'salary': 1000, 'name': 'sumit'} <class 'dict'>\n"
          ]
        }
      ]
    },
    {
      "cell_type": "code",
      "source": [
        "#->>>>>what is the diff between kwargs and aurgs\n"
      ],
      "metadata": {
        "id": "u6grAemWXVhW"
      },
      "execution_count": 9,
      "outputs": []
    },
    {
      "cell_type": "code",
      "source": [
        "#first class function\n",
        "def func(num):\n",
        "  print(num+5)\n",
        "y=func(20)\n",
        "print(y)#no retrun type"
      ],
      "metadata": {
        "colab": {
          "base_uri": "https://localhost:8080/"
        },
        "id": "tf9_CPwBYf2h",
        "outputId": "26491477-59c5-4d45-b76b-d98fb4ddb3ba"
      },
      "execution_count": 13,
      "outputs": [
        {
          "output_type": "stream",
          "name": "stdout",
          "text": [
            "25\n",
            "None\n"
          ]
        }
      ]
    },
    {
      "cell_type": "code",
      "source": [
        "#first class function\n",
        "def func(num):\n",
        "  print(num+5)\n",
        "  return \"i'm\"\n",
        "y=func(20)\n",
        "print(y)"
      ],
      "metadata": {
        "colab": {
          "base_uri": "https://localhost:8080/"
        },
        "id": "a9U8BVb2ZAbN",
        "outputId": "ebde04ea-e216-4530-eb93-fe2c392e8197"
      },
      "execution_count": 14,
      "outputs": [
        {
          "output_type": "stream",
          "name": "stdout",
          "text": [
            "25\n",
            "i'm\n"
          ]
        }
      ]
    },
    {
      "cell_type": "code",
      "source": [
        "#first class function\n",
        "def func(num):\n",
        "  print(num+5)\n",
        "  return num+50\n",
        "y=func(20)\n",
        "print(y)"
      ],
      "metadata": {
        "colab": {
          "base_uri": "https://localhost:8080/"
        },
        "id": "f2CASJgOZyoM",
        "outputId": "aab2245b-545d-4b6c-960f-390e3888d8b0"
      },
      "execution_count": 16,
      "outputs": [
        {
          "output_type": "stream",
          "name": "stdout",
          "text": [
            "25\n",
            "70\n"
          ]
        }
      ]
    },
    {
      "cell_type": "code",
      "source": [
        "#first class function properties\n",
        "#1 assignd to variable\n",
        "#2 passed as arguments\n",
        "#3 return from function\n",
        "#4 stored in data structures"
      ],
      "metadata": {
        "id": "xgUQHVmsaaKY"
      },
      "execution_count": 17,
      "outputs": []
    },
    {
      "cell_type": "code",
      "source": [
        "def fun():\n",
        "  print('hello')\n",
        "y=fun\n",
        "print(fun,y)"
      ],
      "metadata": {
        "colab": {
          "base_uri": "https://localhost:8080/"
        },
        "id": "i4rqCNr8bL3S",
        "outputId": "4420e27a-59e7-4ada-8985-37df2ce5a4e5"
      },
      "execution_count": 18,
      "outputs": [
        {
          "output_type": "stream",
          "name": "stdout",
          "text": [
            "<function fun at 0x7f5cfc8afce0> <function fun at 0x7f5cfc8afce0>\n"
          ]
        }
      ]
    },
    {
      "cell_type": "code",
      "source": [
        "def fun():\n",
        "  print('hello')\n",
        "y=fun\n",
        "fun()\n",
        "y()"
      ],
      "metadata": {
        "colab": {
          "base_uri": "https://localhost:8080/"
        },
        "id": "20SsqvQzblrX",
        "outputId": "4f783e62-533f-4130-eefc-f3d3ab4e8f6f"
      },
      "execution_count": 20,
      "outputs": [
        {
          "output_type": "stream",
          "name": "stdout",
          "text": [
            "hello\n",
            "hello\n"
          ]
        }
      ]
    },
    {
      "cell_type": "code",
      "source": [
        "def square(num):\n",
        "  print(num**2)\n",
        "def cube(x,y):\n",
        "  print(\"cube\",x,y)\n",
        "cube(10,square(2))"
      ],
      "metadata": {
        "colab": {
          "base_uri": "https://localhost:8080/"
        },
        "id": "vUDd0eQ9bvK_",
        "outputId": "500406a9-3856-4eea-ed49-85ea7600e1a2"
      },
      "execution_count": 24,
      "outputs": [
        {
          "output_type": "stream",
          "name": "stdout",
          "text": [
            "4\n",
            "cube 10 None\n"
          ]
        }
      ]
    },
    {
      "cell_type": "code",
      "source": [
        "def square(num):\n",
        "  print(num**2)\n",
        "def cube(x,y):\n",
        "  print(\"cube\",x,y)\n",
        "cube(10,square)  #print memory adress\n",
        "#if a function passed inside another function that is called high order function\n",
        "#and all high order function are first class function vice versa all fisrt class function are not high order function\n"
      ],
      "metadata": {
        "colab": {
          "base_uri": "https://localhost:8080/"
        },
        "id": "hEce17DQdiFI",
        "outputId": "92fce0f3-b9ac-406b-cc98-43e6b7e0518f"
      },
      "execution_count": 25,
      "outputs": [
        {
          "output_type": "stream",
          "name": "stdout",
          "text": [
            "cube 10 <function square at 0x7f5cfc8a3100>\n"
          ]
        }
      ]
    },
    {
      "cell_type": "code",
      "source": [],
      "metadata": {
        "id": "LItO0Rm2dv6G"
      },
      "execution_count": null,
      "outputs": []
    }
  ]
}