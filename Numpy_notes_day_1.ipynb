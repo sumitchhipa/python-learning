{
  "nbformat": 4,
  "nbformat_minor": 0,
  "metadata": {
    "colab": {
      "provenance": [],
      "authorship_tag": "ABX9TyOddQBnzBUhhm9iGi6nF82x",
      "include_colab_link": true
    },
    "kernelspec": {
      "name": "python3",
      "display_name": "Python 3"
    },
    "language_info": {
      "name": "python"
    }
  },
  "cells": [
    {
      "cell_type": "markdown",
      "metadata": {
        "id": "view-in-github",
        "colab_type": "text"
      },
      "source": [
        "<a href=\"https://colab.research.google.com/github/sumitchhipa/python-learning/blob/main/Numpy_notes_day_1.ipynb\" target=\"_parent\"><img src=\"https://colab.research.google.com/assets/colab-badge.svg\" alt=\"Open In Colab\"/></a>"
      ]
    },
    {
      "cell_type": "code",
      "execution_count": 2,
      "metadata": {
        "colab": {
          "base_uri": "https://localhost:8080/"
        },
        "id": "2oLyYstA7XUG",
        "outputId": "c3edb4d8-5661-4f66-8f43-ef4c2a8c5e9c"
      },
      "outputs": [
        {
          "output_type": "stream",
          "name": "stdout",
          "text": [
            "Requirement already satisfied: numpy in /usr/local/lib/python3.11/dist-packages (2.0.2)\n"
          ]
        }
      ],
      "source": [
        "!pip install numpy\n"
      ]
    },
    {
      "cell_type": "code",
      "source": [
        "# homogenous-> same data types data stored\n",
        "# hetrogenous -> diffrent type of data has to be stored into same array\n",
        "# list is hetrogenous and numpy is homogenous\n",
        "# list take more memory as compared to numpy\n",
        "# list is slower than numpy\n",
        "import numpy as np\n",
        "a=[1,45,456]\n",
        "type(a)\n",
        "b= np.array(a)\n",
        "type(b)\n"
      ],
      "metadata": {
        "colab": {
          "base_uri": "https://localhost:8080/"
        },
        "id": "BP1hdrGO9QkC",
        "outputId": "7e7b8f94-0961-436a-8956-14fa3f7f70cb"
      },
      "execution_count": 8,
      "outputs": [
        {
          "output_type": "execute_result",
          "data": {
            "text/plain": [
              "numpy.ndarray"
            ]
          },
          "metadata": {},
          "execution_count": 8
        }
      ]
    },
    {
      "cell_type": "code",
      "source": [
        "a=[]\n",
        "size=int(input(\"Enter Size\"))\n",
        "for i in range(size):\n",
        "  val=int(input(\"enter number\"))\n",
        "  a.append(val)\n",
        "b=np.array(a)\n",
        "b\n",
        "type(b)"
      ],
      "metadata": {
        "colab": {
          "base_uri": "https://localhost:8080/"
        },
        "id": "mt80FFPE_6lv",
        "outputId": "d55f9859-76a7-44b7-ef34-fa9b6526a78c"
      },
      "execution_count": 13,
      "outputs": [
        {
          "name": "stdout",
          "output_type": "stream",
          "text": [
            "Enter Size2\n",
            "enter number23\n",
            "enter number3\n"
          ]
        },
        {
          "output_type": "execute_result",
          "data": {
            "text/plain": [
              "numpy.ndarray"
            ]
          },
          "metadata": {},
          "execution_count": 13
        }
      ]
    },
    {
      "cell_type": "code",
      "source": [
        "a=[[1,2,3,4,],[2,2,3,6,],[1,2,6,5]]\n",
        "b=np.array(a)\n",
        "b\n",
        "print(\"total shape\",b.shape)#shape -> n rows, n columns\n",
        "print(\"total size\",b.size) # size-> n (rows)* n(colums)\n",
        "print(\"total size\",b.ndim)#ndim-> dimension (x,y)"
      ],
      "metadata": {
        "colab": {
          "base_uri": "https://localhost:8080/"
        },
        "id": "s8B3wNRWAv4k",
        "outputId": "b9d5665a-8cdb-4d7d-b7b6-eb6a5907ed7b"
      },
      "execution_count": 18,
      "outputs": [
        {
          "output_type": "stream",
          "name": "stdout",
          "text": [
            "total shape (3, 4)\n",
            "total size 12\n"
          ]
        }
      ]
    },
    {
      "cell_type": "code",
      "source": [
        "# zeros-> it will return array in which all  the values will be zero in either one dimensional or multi dim.\n",
        "a=np.zeros(3)\n",
        "a\n",
        "b=np.zeros((3,4))\n",
        "b\n",
        "print(\"total shape\",a.shape)\n",
        "print(\"total shape\",b.shape)\n",
        "print(\"total size\",a.size)\n",
        "print(\"total size\",b.size)"
      ],
      "metadata": {
        "colab": {
          "base_uri": "https://localhost:8080/"
        },
        "id": "gzhtbuxVBhlX",
        "outputId": "92ad082c-bfb4-4246-8d33-29cfa52eb72e"
      },
      "execution_count": 24,
      "outputs": [
        {
          "output_type": "stream",
          "name": "stdout",
          "text": [
            "total shape (3,)\n",
            "total shape (3, 4)\n",
            "total size 3\n",
            "total size 12\n"
          ]
        }
      ]
    },
    {
      "cell_type": "code",
      "source": [
        "print(\"total size\",b.size)"
      ],
      "metadata": {
        "id": "iYlWHygiE5Ue"
      },
      "execution_count": null,
      "outputs": []
    }
  ]
}