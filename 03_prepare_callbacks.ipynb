{
  "cells": [
    {
      "cell_type": "markdown",
      "metadata": {
        "id": "view-in-github",
        "colab_type": "text"
      },
      "source": [
        "<a href=\"https://colab.research.google.com/github/sumitchhipa/python-learning/blob/main/03_prepare_callbacks.ipynb\" target=\"_parent\"><img src=\"https://colab.research.google.com/assets/colab-badge.svg\" alt=\"Open In Colab\"/></a>"
      ]
    },
    {
      "cell_type": "code",
      "execution_count": 1,
      "id": "e8f6c0f8",
      "metadata": {
        "id": "e8f6c0f8"
      },
      "outputs": [],
      "source": [
        "import os"
      ]
    },
    {
      "cell_type": "code",
      "execution_count": 2,
      "id": "7c014cd9",
      "metadata": {
        "id": "7c014cd9",
        "outputId": "66e86753-4915-43fa-d9ec-898ba628281c",
        "colab": {
          "base_uri": "https://localhost:8080/",
          "height": 36
        }
      },
      "outputs": [
        {
          "output_type": "execute_result",
          "data": {
            "text/plain": [
              "'/content'"
            ],
            "application/vnd.google.colaboratory.intrinsic+json": {
              "type": "string"
            }
          },
          "metadata": {},
          "execution_count": 2
        }
      ],
      "source": [
        "%pwd"
      ]
    },
    {
      "cell_type": "code",
      "execution_count": 3,
      "id": "ed5913c8",
      "metadata": {
        "id": "ed5913c8"
      },
      "outputs": [],
      "source": [
        "os.chdir(\"../\")"
      ]
    },
    {
      "cell_type": "code",
      "execution_count": 4,
      "id": "4275e007",
      "metadata": {
        "id": "4275e007",
        "outputId": "75a22048-6ac2-4d4a-fa01-82625020af9f",
        "colab": {
          "base_uri": "https://localhost:8080/",
          "height": 36
        }
      },
      "outputs": [
        {
          "output_type": "execute_result",
          "data": {
            "text/plain": [
              "'/'"
            ],
            "application/vnd.google.colaboratory.intrinsic+json": {
              "type": "string"
            }
          },
          "metadata": {},
          "execution_count": 4
        }
      ],
      "source": [
        "%pwd"
      ]
    },
    {
      "cell_type": "code",
      "execution_count": 5,
      "id": "8d4b1a27",
      "metadata": {
        "id": "8d4b1a27"
      },
      "outputs": [],
      "source": [
        "from dataclasses import dataclass\n",
        "from pathlib import Path\n",
        "\n",
        "@dataclass(frozen=True)\n",
        "class PrepareCallbacksConfig:\n",
        "    root_dir: Path\n",
        "    tensorboard_root_log_dir: Path\n",
        "    checkpoint_model_filepath: Path\n"
      ]
    },
    {
      "cell_type": "code",
      "execution_count": 6,
      "id": "d05bc539",
      "metadata": {
        "id": "d05bc539",
        "outputId": "69a49cbb-c55c-4af9-9544-ceb4bf90e778",
        "colab": {
          "base_uri": "https://localhost:8080/",
          "height": 345
        }
      },
      "outputs": [
        {
          "output_type": "error",
          "ename": "ModuleNotFoundError",
          "evalue": "No module named 'src'",
          "traceback": [
            "\u001b[0;31m---------------------------------------------------------------------------\u001b[0m",
            "\u001b[0;31mModuleNotFoundError\u001b[0m                       Traceback (most recent call last)",
            "\u001b[0;32m/tmp/ipython-input-2661895492.py\u001b[0m in \u001b[0;36m<cell line: 0>\u001b[0;34m()\u001b[0m\n\u001b[0;32m----> 1\u001b[0;31m \u001b[0;32mfrom\u001b[0m \u001b[0msrc\u001b[0m\u001b[0;34m.\u001b[0m\u001b[0mcnnClassifier\u001b[0m\u001b[0;34m.\u001b[0m\u001b[0mconstants\u001b[0m \u001b[0;32mimport\u001b[0m \u001b[0;34m*\u001b[0m\u001b[0;34m\u001b[0m\u001b[0;34m\u001b[0m\u001b[0m\n\u001b[0m\u001b[1;32m      2\u001b[0m \u001b[0;32mfrom\u001b[0m \u001b[0msrc\u001b[0m\u001b[0;34m.\u001b[0m\u001b[0mcnnClassifier\u001b[0m\u001b[0;34m.\u001b[0m\u001b[0mutils\u001b[0m\u001b[0;34m.\u001b[0m\u001b[0mcommon\u001b[0m \u001b[0;32mimport\u001b[0m \u001b[0mread_yaml\u001b[0m \u001b[0;34m,\u001b[0m \u001b[0mcreate_directories\u001b[0m\u001b[0;34m\u001b[0m\u001b[0;34m\u001b[0m\u001b[0m\n",
            "\u001b[0;31mModuleNotFoundError\u001b[0m: No module named 'src'",
            "",
            "\u001b[0;31m---------------------------------------------------------------------------\u001b[0;32m\nNOTE: If your import is failing due to a missing package, you can\nmanually install dependencies using either !pip or !apt.\n\nTo view examples of installing some common dependencies, click the\n\"Open Examples\" button below.\n\u001b[0;31m---------------------------------------------------------------------------\u001b[0m\n"
          ],
          "errorDetails": {
            "actions": [
              {
                "action": "open_url",
                "actionText": "Open Examples",
                "url": "/notebooks/snippets/importing_libraries.ipynb"
              }
            ]
          }
        }
      ],
      "source": [
        "from src.cnnClassifier.constants import *\n",
        "from src.cnnClassifier.utils.common import read_yaml , create_directories"
      ]
    },
    {
      "cell_type": "code",
      "execution_count": null,
      "id": "5caf4e5d",
      "metadata": {
        "id": "5caf4e5d"
      },
      "outputs": [],
      "source": [
        "# class ---> ConfigurationManager\n",
        "# Reads configuration files and preapre PrepareCallbacksConfig for callbacks .\n",
        "# It centralizes configuration handling so that all settings come from yaml instead of\n",
        "# hardcording paths in the code ."
      ]
    },
    {
      "cell_type": "code",
      "execution_count": null,
      "id": "f8e4f9bd",
      "metadata": {
        "id": "f8e4f9bd"
      },
      "outputs": [],
      "source": [
        "class ConfigurationManager:\n",
        "    def __init__(\n",
        "        self,\n",
        "        config_filepath = CONFIG_FILE_PATH,\n",
        "        params_filepath = PARAMS_FILE_PATH):\n",
        "        self.config = read_yaml(config_filepath)\n",
        "        self.params = read_yaml(params_filepath)\n",
        "        create_directories([self.config.artifacts_root])\n",
        "\n",
        "\n",
        "\n",
        "    def get_prepare_callback_config(self) -> PrepareCallbacksConfig:\n",
        "        config = self.config.prepare_callbacks\n",
        "        model_ckpt_dir = os.path.dirname(config.checkpoint_model_filepath)\n",
        "        create_directories([\n",
        "            Path(model_ckpt_dir),\n",
        "            Path(config.tensorboard_root_log_dir)\n",
        "        ])\n",
        "\n",
        "        prepare_callback_config = PrepareCallbacksConfig(\n",
        "            root_dir=Path(config.root_dir),\n",
        "            tensorboard_root_log_dir=Path(config.tensorboard_root_log_dir),\n",
        "            checkpoint_model_filepath=Path(config.checkpoint_model_filepath)\n",
        "        )\n",
        "\n",
        "        return prepare_callback_config"
      ]
    },
    {
      "cell_type": "code",
      "execution_count": null,
      "id": "3dfef1fd",
      "metadata": {
        "id": "3dfef1fd"
      },
      "outputs": [],
      "source": [
        "import os\n",
        "import urllib.request as request\n",
        "from zipfile import ZipFile\n",
        "import tensorflow as tf\n",
        "import time"
      ]
    },
    {
      "cell_type": "code",
      "execution_count": null,
      "id": "5419ffca",
      "metadata": {
        "id": "5419ffca"
      },
      "outputs": [],
      "source": [
        "class PrepareCallback:\n",
        "    def __init__(self, config: PrepareCallbacksConfig):\n",
        "        self.config = config\n",
        "\n",
        "\n",
        "\n",
        "    @property\n",
        "    def _create_tb_callbacks(self):\n",
        "        timestamp = time.strftime(\"%Y-%m-%d-%H-%M-%S\")\n",
        "        tb_running_log_dir = os.path.join(\n",
        "            self.config.tensorboard_root_log_dir,\n",
        "            f\"tb_logs_at_{timestamp}\",\n",
        "        )\n",
        "        return tf.keras.callbacks.TensorBoard(log_dir=tb_running_log_dir)\n",
        "\n",
        "\n",
        "    @property\n",
        "    def _create_ckpt_callbacks(self):\n",
        "        return tf.keras.callbacks.ModelCheckpoint(\n",
        "            filepath=self.config.checkpoint_model_filepath,\n",
        "            save_best_only=True\n",
        "        )\n",
        "\n",
        "\n",
        "    def get_tb_ckpt_callbacks(self):\n",
        "        return [\n",
        "            self._create_tb_callbacks,\n",
        "            self._create_ckpt_callbacks\n",
        "        ]"
      ]
    },
    {
      "cell_type": "code",
      "execution_count": null,
      "id": "becfcc5b",
      "metadata": {
        "id": "becfcc5b"
      },
      "outputs": [],
      "source": [
        "try:\n",
        "    config = ConfigurationManager()\n",
        "    prepare_callbacks_config = config.get_prepare_callback_config()\n",
        "    prepare_callbacks = PrepareCallback(config=prepare_callbacks_config)\n",
        "    callback_list = prepare_callbacks.get_tb_ckpt_callbacks()\n",
        "\n",
        "except Exception as e:\n",
        "    raise e"
      ]
    },
    {
      "cell_type": "code",
      "execution_count": null,
      "id": "302a545b",
      "metadata": {
        "id": "302a545b"
      },
      "outputs": [],
      "source": []
    }
  ],
  "metadata": {
    "kernelspec": {
      "display_name": "vinipro",
      "language": "python",
      "name": "python3"
    },
    "language_info": {
      "codemirror_mode": {
        "name": "ipython",
        "version": 3
      },
      "file_extension": ".py",
      "mimetype": "text/x-python",
      "name": "python",
      "nbconvert_exporter": "python",
      "pygments_lexer": "ipython3",
      "version": "3.12.10"
    },
    "colab": {
      "provenance": [],
      "include_colab_link": true
    }
  },
  "nbformat": 4,
  "nbformat_minor": 5
}