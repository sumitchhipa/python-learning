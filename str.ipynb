{
  "nbformat": 4,
  "nbformat_minor": 0,
  "metadata": {
    "colab": {
      "provenance": [],
      "authorship_tag": "ABX9TyNAxNURtsqmbDYgS7hovm3w",
      "include_colab_link": true
    },
    "kernelspec": {
      "name": "python3",
      "display_name": "Python 3"
    },
    "language_info": {
      "name": "python"
    }
  },
  "cells": [
    {
      "cell_type": "markdown",
      "metadata": {
        "id": "view-in-github",
        "colab_type": "text"
      },
      "source": [
        "<a href=\"https://colab.research.google.com/github/sumitchhipa/python-learning/blob/main/str.ipynb\" target=\"_parent\"><img src=\"https://colab.research.google.com/assets/colab-badge.svg\" alt=\"Open In Colab\"/></a>"
      ]
    },
    {
      "cell_type": "code",
      "execution_count": 4,
      "metadata": {
        "colab": {
          "base_uri": "https://localhost:8080/"
        },
        "id": "I9k6jJgfULES",
        "outputId": "26e6daae-d140-47c6-9ca8-3eee88b7fc4b"
      },
      "outputs": [
        {
          "output_type": "stream",
          "name": "stdout",
          "text": [
            "ll\n",
            "hey helllo how areyou \n"
          ]
        }
      ],
      "source": [
        "nm=\"helllo\"\n",
        "m=\"you\"\n",
        "print(nm[-4:-2])\n",
        "print(f\"hey {nm} how are{m} \")"
      ]
    },
    {
      "cell_type": "code",
      "source": [],
      "metadata": {
        "id": "goo1Fp8MUULJ"
      },
      "execution_count": null,
      "outputs": []
    }
  ]
}