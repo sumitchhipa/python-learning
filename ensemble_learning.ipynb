{
  "nbformat": 4,
  "nbformat_minor": 0,
  "metadata": {
    "colab": {
      "provenance": [],
      "authorship_tag": "ABX9TyNrho86VpF3nnoDyHwRF6am",
      "include_colab_link": true
    },
    "kernelspec": {
      "name": "python3",
      "display_name": "Python 3"
    },
    "language_info": {
      "name": "python"
    }
  },
  "cells": [
    {
      "cell_type": "markdown",
      "metadata": {
        "id": "view-in-github",
        "colab_type": "text"
      },
      "source": [
        "<a href=\"https://colab.research.google.com/github/sumitchhipa/python-learning/blob/main/ensemble_learning.ipynb\" target=\"_parent\"><img src=\"https://colab.research.google.com/assets/colab-badge.svg\" alt=\"Open In Colab\"/></a>"
      ]
    },
    {
      "cell_type": "code",
      "execution_count": 5,
      "metadata": {
        "colab": {
          "base_uri": "https://localhost:8080/"
        },
        "id": "D9nUjg6BhSBC",
        "outputId": "634b8b39-2c84-405d-93c3-b094caebcc7e"
      },
      "outputs": [
        {
          "output_type": "stream",
          "name": "stdout",
          "text": [
            "Ensemble accuracy: 0.89\n",
            "Ensemble accuracy: 0.875\n",
            "Ensemble accuracy: 0.885\n",
            "Ensemble accuracy: 0.89\n",
            "Ensemble accuracy: 0.89\n",
            "Ensemble accuracy: 0.885\n",
            "Ensemble accuracy: 0.9\n",
            "Ensemble accuracy: 0.885\n",
            "Ensemble accuracy: 0.9\n",
            "Ensemble accuracy: 0.9\n"
          ]
        }
      ],
      "source": [
        "from os import XATTR_CREATE\n",
        "import numpy as np\n",
        "from sklearn.ensemble import RandomForestClassifier\n",
        "from sklearn.datasets import make_classification\n",
        "from sklearn.model_selection import train_test_split\n",
        "from sklearn.metrics import accuracy_score\n",
        "#GENRATING A SYNTHETIC DATASET\n",
        "X,y = make_classification(n_samples=1000,n_features=20,random_state=42)\n",
        "X_train,X_test,y_train,y_test = train_test_split(X,y,test_size=0.2,random_state=42)\n",
        "#intitialize a list to a store the base learners\n",
        "base_learners=[]\n",
        "#number of base learners (decision tree)\n",
        "num_base_learners=10\n",
        "#train the base learners\n",
        "for i in range(num_base_learners):\n",
        "    bootstrap_indices=np.random.choice(len(X_train),size=len(X_train),replace=True)\n",
        "    X_bootstrap=X_train[bootstrap_indices]\n",
        "    y_bootstrap=y_train[bootstrap_indices]\n",
        "    #create and train a base learner(random forest)\n",
        "    base_learner=RandomForestClassifier(n_estimators=100,random_state=42)\n",
        "    base_learner.fit(X_bootstrap,y_bootstrap)\n",
        "    #add the trained base learners tp the list\n",
        "    base_learners.append(base_learner)\n",
        "    #make prediction with each base learner\n",
        "base_predictions=[]\n",
        "for base_learner in base_learners:\n",
        "  y_pred= base_learner.predict(X_test)\n",
        "  base_predictions.append(y_pred)\n",
        "  #combine the predictions using majority voting\n",
        "  ensemble_predictions=np.round(np.mean(base_predictions,axis=0))\n",
        "  #calculating the accuracy of the ensemble predictions\n",
        "  accuracy=accuracy_score(y_test,ensemble_predictions)\n",
        "  print(\"Ensemble accuracy:\",accuracy)\n"
      ]
    },
    {
      "cell_type": "code",
      "source": [],
      "metadata": {
        "id": "cJL0NibvqTV4"
      },
      "execution_count": null,
      "outputs": []
    }
  ]
}