{
  "nbformat": 4,
  "nbformat_minor": 0,
  "metadata": {
    "colab": {
      "provenance": [],
      "authorship_tag": "ABX9TyMUD89gU9qu8vZeVOYDHc2+",
      "include_colab_link": true
    },
    "kernelspec": {
      "name": "python3",
      "display_name": "Python 3"
    },
    "language_info": {
      "name": "python"
    }
  },
  "cells": [
    {
      "cell_type": "markdown",
      "metadata": {
        "id": "view-in-github",
        "colab_type": "text"
      },
      "source": [
        "<a href=\"https://colab.research.google.com/github/sumitchhipa/python-learning/blob/main/assignment3.ipynb\" target=\"_parent\"><img src=\"https://colab.research.google.com/assets/colab-badge.svg\" alt=\"Open In Colab\"/></a>"
      ]
    },
    {
      "cell_type": "code",
      "source": [
        "n = 4\n",
        "for i in range(n):\n",
        "    print(\" \" * i + \"*\" * (7 - 2 * i))\n"
      ],
      "metadata": {
        "colab": {
          "base_uri": "https://localhost:8080/"
        },
        "id": "2iBAdZYdGn5Q",
        "outputId": "e4176eed-631c-4894-fb14-314a44088ff7"
      },
      "execution_count": null,
      "outputs": [
        {
          "output_type": "stream",
          "name": "stdout",
          "text": [
            "*******\n",
            " *****\n",
            "  ***\n",
            "   *\n"
          ]
        }
      ]
    },
    {
      "cell_type": "code",
      "source": [
        "n = 5\n",
        "for i in range(n):\n",
        "  print()\n",
        "    for j in range(n):\n",
        "        print(\"*\" if i == 0 or j == n - i - 1 or j == 0 else \" \", end=\"\")\n",
        "    print()\n"
      ],
      "metadata": {
        "colab": {
          "base_uri": "https://localhost:8080/"
        },
        "id": "tAZPHx3qQAKP",
        "outputId": "5ed6a7c1-3ccb-4579-ad67-20590da5d4c0"
      },
      "execution_count": null,
      "outputs": [
        {
          "output_type": "stream",
          "name": "stdout",
          "text": [
            "*****\n",
            "*  * \n",
            "* *  \n",
            "**   \n",
            "*    \n"
          ]
        }
      ]
    },
    {
      "cell_type": "code",
      "source": [
        "n = 4\n",
        "for i in range(n, 0, -1):\n",
        "    print(\"*\" * i)\n",
        "for i in range(2, n + 2):\n",
        "    print(\"*\" * i)\n"
      ],
      "metadata": {
        "colab": {
          "base_uri": "https://localhost:8080/"
        },
        "id": "QEKm9h4zQj3U",
        "outputId": "9f304bae-f3dc-4efe-93c4-88df4b0cce29"
      },
      "execution_count": null,
      "outputs": [
        {
          "output_type": "stream",
          "name": "stdout",
          "text": [
            "****\n",
            "***\n",
            "**\n",
            "*\n",
            "**\n",
            "***\n",
            "****\n",
            "*****\n"
          ]
        }
      ]
    },
    {
      "cell_type": "code",
      "source": [
        "num = [123, 45, 67, 89]\n",
        "total = 0\n",
        "for num in num:\n",
        "    while num > 0:\n",
        "        total += num % 10\n",
        "        num //= 10\n",
        "print(total)\n"
      ],
      "metadata": {
        "colab": {
          "base_uri": "https://localhost:8080/"
        },
        "id": "tukJHzG2Q4iD",
        "outputId": "832cf3e0-5270-49c5-d176-664fba51a729"
      },
      "execution_count": null,
      "outputs": [
        {
          "output_type": "stream",
          "name": "stdout",
          "text": [
            "45\n"
          ]
        }
      ]
    },
    {
      "cell_type": "code",
      "source": [
        "num = [10, 20, 121, 142, 10000]\n",
        "target = 131\n",
        "total = 0\n",
        "\n",
        "for num in num:\n",
        "    while num > 0:\n",
        "        total += num % 10\n",
        "        num //= 10\n",
        "\n",
        "    if total == target:\n",
        "        print(\"matched\")\n",
        "        break\n",
        "else:\n",
        "    print(\"unatched\")\n"
      ],
      "metadata": {
        "colab": {
          "base_uri": "https://localhost:8080/"
        },
        "id": "MsBrOiKaSARi",
        "outputId": "807a5abc-c17e-4a91-b61c-96384d0591cf"
      },
      "execution_count": null,
      "outputs": [
        {
          "output_type": "stream",
          "name": "stdout",
          "text": [
            "unatched\n"
          ]
        }
      ]
    },
    {
      "cell_type": "code",
      "source": [
        "dict1={\"name\":\"sumit\",\"age\":22,\"gender\":\"Male\"}\n",
        "print(dict1)\n",
        "#insert\n",
        "dict1.update({\"city\":\"jaipur\"})\n",
        "print(dict1)\n",
        "dict1.pop(\"city\")\n",
        "print(dict1)"
      ],
      "metadata": {
        "colab": {
          "base_uri": "https://localhost:8080/"
        },
        "id": "TLfblV1kSauj",
        "outputId": "2445a8c3-354e-4b3b-9887-2d647d67c371"
      },
      "execution_count": null,
      "outputs": [
        {
          "output_type": "stream",
          "name": "stdout",
          "text": [
            "{'name': 'sumit', 'age': 22, 'gender': 'Male'}\n",
            "{'name': 'sumit', 'age': 22, 'gender': 'Male', 'city': 'jaipur'}\n",
            "{'name': 'sumit', 'age': 22, 'gender': 'Male'}\n"
          ]
        }
      ]
    },
    {
      "cell_type": "code",
      "source": [
        "str = \"hello\"\n",
        "dict = {}\n",
        "for i in range(len(str)):\n",
        "    dict[i] = str[i]\n",
        "print(dict)\n"
      ],
      "metadata": {
        "colab": {
          "base_uri": "https://localhost:8080/"
        },
        "id": "_4Owq4C0TH6_",
        "outputId": "61d203e7-3e41-4e69-a9b7-85735a5fb09c"
      },
      "execution_count": null,
      "outputs": [
        {
          "output_type": "stream",
          "name": "stdout",
          "text": [
            "{0: 'h', 1: 'e', 2: 'l', 3: 'l', 4: 'o'}\n"
          ]
        }
      ]
    },
    {
      "cell_type": "code",
      "source": [],
      "metadata": {
        "id": "45ZfcruoVnfo"
      },
      "execution_count": null,
      "outputs": []
    }
  ]
}