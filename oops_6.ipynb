{
  "nbformat": 4,
  "nbformat_minor": 0,
  "metadata": {
    "colab": {
      "provenance": [],
      "authorship_tag": "ABX9TyM4dJ1lyeQVDL+14vijAChB",
      "include_colab_link": true
    },
    "kernelspec": {
      "name": "python3",
      "display_name": "Python 3"
    },
    "language_info": {
      "name": "python"
    }
  },
  "cells": [
    {
      "cell_type": "markdown",
      "metadata": {
        "id": "view-in-github",
        "colab_type": "text"
      },
      "source": [
        "<a href=\"https://colab.research.google.com/github/sumitchhipa/python-learning/blob/main/oops_6.ipynb\" target=\"_parent\"><img src=\"https://colab.research.google.com/assets/colab-badge.svg\" alt=\"Open In Colab\"/></a>"
      ]
    },
    {
      "cell_type": "code",
      "execution_count": 2,
      "metadata": {
        "colab": {
          "base_uri": "https://localhost:8080/"
        },
        "id": "hQnKs3yRPAQ2",
        "outputId": "05c285c7-d959-46ee-adb5-30879f5fc0a3"
      },
      "outputs": [
        {
          "output_type": "stream",
          "name": "stdout",
          "text": [
            "Processing credit card payment of $100\n",
            "Processing PayPal payment of $75\n",
            "Processing bank transfer payment of $50\n"
          ]
        }
      ],
      "source": [
        "class Paymentmethod:\n",
        "  def process_payment(self, amount):\n",
        "    raise NotImplementedError(\"subclass must implement abstract method\")\n",
        "\n",
        "class CreditCardPayment(Paymentmethod):\n",
        "  def process_payment(self, amount):\n",
        "    print(f\"Processing credit card payment of ${amount}\")\n",
        "\n",
        "class PayPalPayment(Paymentmethod):\n",
        "  def process_payment(self, amount):\n",
        "    print(f\"Processing PayPal payment of ${amount}\")\n",
        "\n",
        "class Banktransfer(Paymentmethod):\n",
        "  def process_payment(self,amount):\n",
        "    print(f\"Processing bank transfer payment of ${amount}\")\n",
        "\n",
        "def process_transaction(payment_method, amount):\n",
        "  payment_method.process_payment(amount)\n",
        "\n",
        "if __name__ == \"__main__\":\n",
        "  credit_card = CreditCardPayment()\n",
        "  paypal = PayPalPayment()\n",
        "  bank_transfer = Banktransfer()\n",
        "\n",
        "  process_transaction(credit_card, 100)\n",
        "  process_transaction(paypal, 75)\n",
        "  process_transaction(bank_transfer, 50)"
      ]
    },
    {
      "cell_type": "code",
      "source": [
        "class Employee:\n",
        "  def calculate_salary(self):\n",
        "    raise NotImplementedError(\"subclass must implement abstract method\")\n",
        "\n",
        "class Fulltimeemployee(Employee):\n",
        "  def __init__(self,monthly_salary):\n",
        "    self.monthly_salary = monthly_salary\n",
        "\n",
        "  def calculate_salary(self):\n",
        "    return self.monthly_salary\n",
        "class Parttimeemployee(Employee):\n",
        "  def __init__(self,hourly_rate,hours_worked):\n",
        "    self.hourly_rate = hourly_rate\n",
        "    self.hours_worked = hours_worked\n",
        "  def calculate_salary(self):\n",
        "    return self.hourly_rate*self.hours_worked\n",
        "\n",
        "class Freelancer(Employee):\n",
        "  def __init__(self,project_rate):\n",
        "    self.project_rate=project_rate\n",
        "\n",
        "  def calculate_salary(self):\n",
        "    return self.project_rate\n",
        "def display_employee_salary(employee):\n",
        "  print(f\"salary ${employee.calculate_salary()}\")\n",
        "\n",
        "if __name__ == \"__main__\":\n",
        "  fulltime_employee = Fulltimeemployee(5000)\n",
        "  parttime_employee = Parttimeemployee(hourly_rate=20,hours_worked= 160)\n",
        "  freelancer = Freelancer(project_rate=1000)\n",
        "  print(\"full-time employee\")\n",
        "  display_employee_salary(fulltime_employee)\n",
        "  print(\"part-time employee\")\n",
        "  display_employee_salary(parttime_employee)\n",
        "  print(\"freelancer\")\n",
        "  display_employee_salary(freelancer)\n"
      ],
      "metadata": {
        "colab": {
          "base_uri": "https://localhost:8080/"
        },
        "id": "8xM3lAjfQ27i",
        "outputId": "0af0cc4e-0eca-4e22-84a1-99d6074a027b"
      },
      "execution_count": 6,
      "outputs": [
        {
          "output_type": "stream",
          "name": "stdout",
          "text": [
            "full-time employee\n",
            "salary $5000\n",
            "part-time employee\n",
            "salary $3200\n",
            "freelancer\n",
            "salary $1000\n"
          ]
        }
      ]
    },
    {
      "cell_type": "code",
      "source": [],
      "metadata": {
        "id": "iP8DEZLSVDDK"
      },
      "execution_count": null,
      "outputs": []
    }
  ]
}