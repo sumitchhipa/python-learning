{
  "nbformat": 4,
  "nbformat_minor": 0,
  "metadata": {
    "colab": {
      "provenance": [],
      "authorship_tag": "ABX9TyOWxe+EfhvEGL72XmjeVqCY",
      "include_colab_link": true
    },
    "kernelspec": {
      "name": "python3",
      "display_name": "Python 3"
    },
    "language_info": {
      "name": "python"
    }
  },
  "cells": [
    {
      "cell_type": "markdown",
      "metadata": {
        "id": "view-in-github",
        "colab_type": "text"
      },
      "source": [
        "<a href=\"https://colab.research.google.com/github/sumitchhipa/python-learning/blob/main/oops.ipynb\" target=\"_parent\"><img src=\"https://colab.research.google.com/assets/colab-badge.svg\" alt=\"Open In Colab\"/></a>"
      ]
    },
    {
      "cell_type": "code",
      "execution_count": 4,
      "metadata": {
        "colab": {
          "base_uri": "https://localhost:8080/",
          "height": 109
        },
        "id": "IMa-RKYkVj06",
        "outputId": "9f42816c-17d6-48b8-e6fe-20372ecaebac"
      },
      "outputs": [
        {
          "output_type": "error",
          "ename": "IndentationError",
          "evalue": "unindent does not match any outer indentation level (<tokenize>, line 22)",
          "traceback": [
            "\u001b[0;36m  File \u001b[0;32m\"<tokenize>\"\u001b[0;36m, line \u001b[0;32m22\u001b[0m\n\u001b[0;31m    else:\u001b[0m\n\u001b[0m    ^\u001b[0m\n\u001b[0;31mIndentationError\u001b[0m\u001b[0;31m:\u001b[0m unindent does not match any outer indentation level\n"
          ]
        }
      ],
      "source": [
        "class BankAccount:\n",
        "    def __init__(self, account_number, balance):\n",
        "        self.account_number = account_number\n",
        "        self.balance = balance\n",
        "        #getter for account holder\n",
        "    def get_account_holder(self):\n",
        "      return self.__account_holder\n",
        "    def get_balance(self):\n",
        "      return self.__balance\n",
        "    #method for deposit money\n",
        "    def deposit (self,amount):\n",
        "      if amount>0:\n",
        "        self.balance += amount\n",
        "        return f\"deposite successful! New Balanace{self.__balance}\"\n",
        "      else:\n",
        "        return \"invalid deposit\"\n",
        "        # method to withdraw money\n",
        "    def withdraw(self,amount):\n",
        "        if amount<=self.__balance:\n",
        "          self.__balance-= amount\n",
        "          return f\" withdrawal succesfull New balance :{self.balance}\"\n",
        "         else:\n",
        "          return \"invalid grade\"\n",
        "student= student(\"hiul\",85)\n"
      ]
    },
    {
      "cell_type": "code",
      "source": [
        "class Student:\n",
        "    def __init__(self, name, age, grade):\n",
        "        self.name = name\n",
        "        self.age = age\n",
        "        self.grade = grade\n",
        "\n",
        "    def get_grade(self):\n",
        "        return self.grade\n",
        "    def set_garde(self,new_grade):\n",
        "      if 0 <= new_grade<=100:\n",
        "        self.grade = new_grade\n",
        "        return \"grade updated succesfully\"\n",
        "      else:\n",
        "        print(\"Invalid grade\")\n",
        "student=Student(\"rohit\",85)\n",
        "print(Student.name)\n",
        "print(Student.get_grade())\n",
        "# print(Student.)"
      ],
      "metadata": {
        "colab": {
          "base_uri": "https://localhost:8080/",
          "height": 217
        },
        "id": "e0QTstFXdMAy",
        "outputId": "90f9e051-854a-479d-c4c2-9d871b002bdc"
      },
      "execution_count": 8,
      "outputs": [
        {
          "output_type": "error",
          "ename": "TypeError",
          "evalue": "Student.__init__() missing 1 required positional argument: 'grade'",
          "traceback": [
            "\u001b[0;31m---------------------------------------------------------------------------\u001b[0m",
            "\u001b[0;31mTypeError\u001b[0m                                 Traceback (most recent call last)",
            "\u001b[0;32m<ipython-input-8-60b2fc38e809>\u001b[0m in \u001b[0;36m<cell line: 0>\u001b[0;34m()\u001b[0m\n\u001b[1;32m     13\u001b[0m       \u001b[0;32melse\u001b[0m\u001b[0;34m:\u001b[0m\u001b[0;34m\u001b[0m\u001b[0;34m\u001b[0m\u001b[0m\n\u001b[1;32m     14\u001b[0m         \u001b[0mprint\u001b[0m\u001b[0;34m(\u001b[0m\u001b[0;34m\"Invalid grade\"\u001b[0m\u001b[0;34m)\u001b[0m\u001b[0;34m\u001b[0m\u001b[0;34m\u001b[0m\u001b[0m\n\u001b[0;32m---> 15\u001b[0;31m \u001b[0mstudent\u001b[0m\u001b[0;34m=\u001b[0m\u001b[0mStudent\u001b[0m\u001b[0;34m(\u001b[0m\u001b[0;34m\"rohit\"\u001b[0m\u001b[0;34m,\u001b[0m\u001b[0;36m85\u001b[0m\u001b[0;34m)\u001b[0m\u001b[0;34m\u001b[0m\u001b[0;34m\u001b[0m\u001b[0m\n\u001b[0m\u001b[1;32m     16\u001b[0m \u001b[0mprint\u001b[0m\u001b[0;34m(\u001b[0m\u001b[0mStudent\u001b[0m\u001b[0;34m.\u001b[0m\u001b[0mname\u001b[0m\u001b[0;34m)\u001b[0m\u001b[0;34m\u001b[0m\u001b[0;34m\u001b[0m\u001b[0m\n\u001b[1;32m     17\u001b[0m \u001b[0mprint\u001b[0m\u001b[0;34m(\u001b[0m\u001b[0mStudent\u001b[0m\u001b[0;34m.\u001b[0m\u001b[0mget_grade\u001b[0m\u001b[0;34m(\u001b[0m\u001b[0;34m)\u001b[0m\u001b[0;34m)\u001b[0m\u001b[0;34m\u001b[0m\u001b[0;34m\u001b[0m\u001b[0m\n",
            "\u001b[0;31mTypeError\u001b[0m: Student.__init__() missing 1 required positional argument: 'grade'"
          ]
        }
      ]
    },
    {
      "cell_type": "code",
      "source": [
        "class Patient:\n",
        "    def __init__(self, name, age):\n",
        "        self.__name = name\n",
        "        self.__age = age\n",
        "        self.__medical_history = []\n",
        "\n",
        "    def add_medical_record(self, record):\n",
        "        self.__medical_history.append(record)\n",
        "        return f\"{self.__name} has a new medical record:\"\n",
        "\n",
        "    def get_medical_history(self):\n",
        "        return f\"medical record added for {self.__name}.\"\n",
        "\n",
        "patient=Patient(\"rohit\",30)\n",
        "print(patient.add_medical_record(\"2024:fever\"))\n",
        "print(patient.add_medical_record(\"2024:blood test result\"))\n",
        "print(patient.add_medical_record(\"2024:covid\"))\n",
        "print(patient.get_medical_history())"
      ],
      "metadata": {
        "colab": {
          "base_uri": "https://localhost:8080/"
        },
        "id": "Kq-qClEmeuUP",
        "outputId": "0bcd51a6-e908-4eff-c9ef-3732385f6f60"
      },
      "execution_count": 7,
      "outputs": [
        {
          "output_type": "stream",
          "name": "stdout",
          "text": [
            "rohit has a new medical record:\n",
            "rohit has a new medical record:\n",
            "rohit has a new medical record:\n",
            "medical record added for rohit.\n"
          ]
        }
      ]
    },
    {
      "cell_type": "code",
      "source": [],
      "metadata": {
        "id": "reY5zbTJgrLA"
      },
      "execution_count": null,
      "outputs": []
    }
  ]
}