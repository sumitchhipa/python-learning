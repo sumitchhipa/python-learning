{
  "nbformat": 4,
  "nbformat_minor": 0,
  "metadata": {
    "colab": {
      "provenance": [],
      "authorship_tag": "ABX9TyPrU6ku7qJCXrx/4CwEM6na",
      "include_colab_link": true
    },
    "kernelspec": {
      "name": "python3",
      "display_name": "Python 3"
    },
    "language_info": {
      "name": "python"
    }
  },
  "cells": [
    {
      "cell_type": "markdown",
      "metadata": {
        "id": "view-in-github",
        "colab_type": "text"
      },
      "source": [
        "<a href=\"https://colab.research.google.com/github/sumitchhipa/python-learning/blob/main/cmpresion.ipynb\" target=\"_parent\"><img src=\"https://colab.research.google.com/assets/colab-badge.svg\" alt=\"Open In Colab\"/></a>"
      ]
    },
    {
      "cell_type": "code",
      "execution_count": null,
      "metadata": {
        "colab": {
          "base_uri": "https://localhost:8080/"
        },
        "id": "4uKVyErqUPRe",
        "outputId": "073b46c9-1904-4948-f612-8bd8e0302c08"
      },
      "outputs": [
        {
          "output_type": "stream",
          "name": "stdout",
          "text": [
            "[1, 4, 9, 16, 25]\n"
          ]
        }
      ],
      "source": [
        "square=[x**2 for x in range(1,6)]\n",
        "print(square)"
      ]
    },
    {
      "cell_type": "code",
      "source": [
        "even=[x for x in range(1,11) if x%2==0]\n",
        "print(even)"
      ],
      "metadata": {
        "colab": {
          "base_uri": "https://localhost:8080/"
        },
        "id": "NMLXI5_pUrjU",
        "outputId": "acec2f8a-9a86-4680-fc71-4282fc57113e"
      },
      "execution_count": null,
      "outputs": [
        {
          "output_type": "stream",
          "name": "stdout",
          "text": [
            "[2, 4, 6, 8, 10]\n"
          ]
        }
      ]
    },
    {
      "cell_type": "code",
      "source": [
        "# convert string upper case\n",
        "name=[\"sam\",\"sumit\",\"ram\"]\n",
        "upper=[name.upper() for name in name]\n",
        "print(upper)"
      ],
      "metadata": {
        "colab": {
          "base_uri": "https://localhost:8080/"
        },
        "id": "SH86GIgKUzSa",
        "outputId": "bf60b8a2-af27-4a3f-eb21-96d828273d6e"
      },
      "execution_count": null,
      "outputs": [
        {
          "output_type": "stream",
          "name": "stdout",
          "text": [
            "['SAM', 'SUMIT', 'RAM']\n"
          ]
        }
      ]
    },
    {
      "cell_type": "code",
      "source": [
        "# flatten nestd list\n",
        "matrix=[[1,2],[3,4],[5,6]]\n",
        "flattend=[num for sublist in matrix for num in sublist]\n",
        "print(flattend)"
      ],
      "metadata": {
        "colab": {
          "base_uri": "https://localhost:8080/"
        },
        "id": "JPpiDcM_Vksk",
        "outputId": "0afef237-8849-4f9f-b45c-41907d7c83d4"
      },
      "execution_count": null,
      "outputs": [
        {
          "output_type": "stream",
          "name": "stdout",
          "text": [
            "[1, 2, 3, 4, 5, 6]\n"
          ]
        }
      ]
    },
    {
      "cell_type": "code",
      "source": [
        "# list comprehension using dictionary\n",
        "# synatax {key expression :value expression for item in }\n",
        "sqrdict={x:x**2 for x in range (1,8)}\n",
        "print(sqrdict)"
      ],
      "metadata": {
        "colab": {
          "base_uri": "https://localhost:8080/"
        },
        "id": "YguzdHLoWIIr",
        "outputId": "e9cdb4af-619e-4883-a8a9-80d29c3890f4"
      },
      "execution_count": null,
      "outputs": [
        {
          "output_type": "stream",
          "name": "stdout",
          "text": [
            "{1: 1, 2: 4, 3: 9, 4: 16, 5: 25, 6: 36, 7: 49}\n"
          ]
        }
      ]
    },
    {
      "cell_type": "code",
      "source": [
        "even= {x:x**2 for x in range(10) if x%2  }"
      ],
      "metadata": {
        "id": "lxhJAimfXVnA"
      },
      "execution_count": null,
      "outputs": []
    }
  ]
}