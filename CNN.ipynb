{
  "nbformat": 4,
  "nbformat_minor": 0,
  "metadata": {
    "colab": {
      "provenance": [],
      "include_colab_link": true
    },
    "kernelspec": {
      "name": "python3",
      "display_name": "Python 3"
    },
    "language_info": {
      "name": "python"
    }
  },
  "cells": [
    {
      "cell_type": "markdown",
      "metadata": {
        "id": "view-in-github",
        "colab_type": "text"
      },
      "source": [
        "<a href=\"https://colab.research.google.com/github/sumitchhipa/python-learning/blob/main/CNN.ipynb\" target=\"_parent\"><img src=\"https://colab.research.google.com/assets/colab-badge.svg\" alt=\"Open In Colab\"/></a>"
      ]
    },
    {
      "cell_type": "code",
      "execution_count": null,
      "metadata": {
        "id": "c7Is6_bkISdB"
      },
      "outputs": [],
      "source": [
        "# CNN ---> Convolutional Neural Networks ---> Image related preprocessing and model training .\n",
        "\n",
        "# Images ----> Pixels ---> range(0-255) ---> 0px (black) , 255px (white) .\n",
        "\n",
        "# Normalize ----> Pixels (0-1)\n",
        "\n",
        "\n",
        "# Black & white Image ----> Height , width\n",
        "\n",
        "# Colorfull Image ----> Height , Width , Color_channel(Red , Green , Blue)"
      ]
    },
    {
      "cell_type": "code",
      "source": [
        "# Image ---> 120 , 240\n",
        "# Image ----> 130 , 250\n",
        "\n",
        "# Data Load ----> Data Equal Shape ---> Padding(add zero in matrix)\n",
        "\n",
        "# Padding --->\n",
        "# (a). Pre-padding  ----> add zeros in starting in a matrix .\n",
        "# (b). Post-padding  ----> add zeros in last in a matrix .\n",
        "# Image ---> 120+10(zeros) , 240+10(zeros)\n",
        "# Image ----> 130 , 250\n",
        "# Updated Image shape (130 , 250)  , (130 ,250)\n",
        "\n",
        "\n",
        "# Images ----> Pixel value Equal ---> Image/127.5 - 1  ---> updated_output --->\n",
        "#  Normalize_pixel(grey_scale_value)\n",
        "\n",
        "# Stride ---> gap of value from left to right and top to bottom .\n",
        "# stride = 2"
      ],
      "metadata": {
        "id": "OCd1RwD_JVDl"
      },
      "execution_count": null,
      "outputs": []
    },
    {
      "cell_type": "code",
      "source": [
        "# [[1,2,3,4],\n",
        "#  [5,1,3,2], matrix(4,3) * [1,2] (2*2)   ---->\n",
        "#  [5,3,2,1]]               [3,4]\n"
      ],
      "metadata": {
        "id": "w662imHEKW1k"
      },
      "execution_count": null,
      "outputs": []
    },
    {
      "cell_type": "code",
      "source": [
        "# [1,2] * [1,2]\n",
        "# [5,1]   [3,4]"
      ],
      "metadata": {
        "id": "zaofDLb_K7Te"
      },
      "execution_count": null,
      "outputs": []
    },
    {
      "cell_type": "code",
      "source": [
        "# Layers ---->\n",
        "# (1). Dense Layer ----> Fully connected layer --> output of fisrt neuron will be input of second\n",
        "# neuron .\n",
        "# (2). Convolutional Layer ---> Partially Connected Layer ----> overftting issue ---->\n",
        "# solve ---> Regularization_technique(Pooling_layers)"
      ],
      "metadata": {
        "id": "-sDLzjI-LYoR"
      },
      "execution_count": null,
      "outputs": []
    },
    {
      "cell_type": "code",
      "source": [
        "# [1,2,3,4]\n",
        "# [5,6,7,8]     ---> stride(2*2) [1,2,3,4] ---> [1,2,5,6] ---> max(6) , [2,3,6,7] ---> max(7)\n",
        "# [9,10,11,12]"
      ],
      "metadata": {
        "id": "m52QBP_mMX3Q"
      },
      "execution_count": null,
      "outputs": []
    },
    {
      "cell_type": "code",
      "source": [
        "# [3,4,7,8] ---. max(8) , [5,6,9,10] ---> max(10) , [6,7,10,11] --> max(11) , [7,8,11,12] --> max(12)"
      ],
      "metadata": {
        "id": "Vvj8m1qUMr-q"
      },
      "execution_count": null,
      "outputs": []
    },
    {
      "cell_type": "code",
      "source": [
        "# Final Matrix of MaxPooling ---> [6,7,8,10,11,12] ---> matrix"
      ],
      "metadata": {
        "id": "bGg6dV7qM3Pg"
      },
      "execution_count": null,
      "outputs": []
    }
  ]
}