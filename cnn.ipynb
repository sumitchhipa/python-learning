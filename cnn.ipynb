{
  "nbformat": 4,
  "nbformat_minor": 0,
  "metadata": {
    "colab": {
      "provenance": [],
      "authorship_tag": "ABX9TyMfxKLpynQ+krg9yOSS40AN",
      "include_colab_link": true
    },
    "kernelspec": {
      "name": "python3",
      "display_name": "Python 3"
    },
    "language_info": {
      "name": "python"
    }
  },
  "cells": [
    {
      "cell_type": "markdown",
      "metadata": {
        "id": "view-in-github",
        "colab_type": "text"
      },
      "source": [
        "<a href=\"https://colab.research.google.com/github/sumitchhipa/python-learning/blob/main/cnn.ipynb\" target=\"_parent\"><img src=\"https://colab.research.google.com/assets/colab-badge.svg\" alt=\"Open In Colab\"/></a>"
      ]
    },
    {
      "cell_type": "code",
      "execution_count": null,
      "metadata": {
        "id": "mP8VvxyuIgnl"
      },
      "outputs": [],
      "source": [
        "    CNN---> CONVOLUTIONAL Neural Network ---> image related preprocessing and model training.\n",
        "    Image--->Pixels----> range(0-255)---> 0px(black)255px(white).\n",
        "    Normalize----> pixel(0-1)\n",
        "    image---> 102,240\n",
        "    image--->130,250\n",
        "    data load---> data equal shape----> padding(add zero in matrix)\n",
        "    padding--->\n",
        "    (a)pre -padding---> add zeros in startng in a matrix\n",
        "    (b)post - padding--->add zeros in last in a matrix\n",
        "    image()--->120+10(zeros),240+10(zeros)\n",
        "    image--->130,250\n",
        "    updated image shape(130,250)(130,250)\n",
        "    image---, pixel value equal ---->image/127.5-1 updated output----\n",
        "    normalize_pixel(grey_scale_value)\n",
        "    stride---> gap of value fromleft to right and top to bottom..\n",
        "    [[1,2,3,4],\n",
        "     [5,1,6,60],\n",
        "     [2,6,4,5]]\n",
        ""
      ]
    }
  ]
}