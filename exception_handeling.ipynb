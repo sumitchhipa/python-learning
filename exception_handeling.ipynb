{
  "nbformat": 4,
  "nbformat_minor": 0,
  "metadata": {
    "colab": {
      "provenance": [],
      "authorship_tag": "ABX9TyMrYm4xTjeH7Y3SOFTAxdOM",
      "include_colab_link": true
    },
    "kernelspec": {
      "name": "python3",
      "display_name": "Python 3"
    },
    "language_info": {
      "name": "python"
    }
  },
  "cells": [
    {
      "cell_type": "markdown",
      "metadata": {
        "id": "view-in-github",
        "colab_type": "text"
      },
      "source": [
        "<a href=\"https://colab.research.google.com/github/sumitchhipa/python-learning/blob/main/exception_handeling.ipynb\" target=\"_parent\"><img src=\"https://colab.research.google.com/assets/colab-badge.svg\" alt=\"Open In Colab\"/></a>"
      ]
    },
    {
      "cell_type": "code",
      "execution_count": null,
      "metadata": {
        "colab": {
          "base_uri": "https://localhost:8080/"
        },
        "id": "vLE7pgso7oyd",
        "outputId": "6dbb2437-f0df-4cee-9bf4-284dacd87bee"
      },
      "outputs": [
        {
          "output_type": "stream",
          "name": "stdout",
          "text": [
            "hello\n",
            "bye\n"
          ]
        }
      ],
      "source": [
        "try:\n",
        "  print('hello')\n",
        "  z+10\n",
        "  print(\"exceotioin occour\")\n",
        "except:\n",
        "  print(\"bye\")"
      ]
    },
    {
      "cell_type": "code",
      "source": [
        "try:\n",
        "  print('hello')\n",
        "  z+10\n",
        "  print(\"exceotioin occour\")\n",
        "except NameError as e:\n",
        "  print(\"bye\",e)\n"
      ],
      "metadata": {
        "colab": {
          "base_uri": "https://localhost:8080/"
        },
        "id": "hGXuj-IF794Y",
        "outputId": "d16193ff-9479-40ec-b52f-b25d37bf6b19"
      },
      "execution_count": null,
      "outputs": [
        {
          "output_type": "stream",
          "name": "stdout",
          "text": [
            "hello\n",
            "bye name 'z' is not defined\n"
          ]
        }
      ]
    },
    {
      "cell_type": "code",
      "source": [
        "try:\n",
        "  print('hello')\n",
        "  try:\n",
        "     s=\"hey\"\n",
        "     s[6]\n",
        "     z+10\n",
        "  except:\n",
        "    print(\"excecution occour\")\n",
        "except (NameError,IndexError) as e:\n",
        "  print(\"bye\",e)"
      ],
      "metadata": {
        "colab": {
          "base_uri": "https://localhost:8080/"
        },
        "id": "x4C3m8h985y0",
        "outputId": "d95c4df8-70c5-4281-99a1-255fb45077f5"
      },
      "execution_count": null,
      "outputs": [
        {
          "output_type": "stream",
          "name": "stdout",
          "text": [
            "hello\n",
            "bye name 'ji' is not defined\n"
          ]
        }
      ]
    },
    {
      "cell_type": "code",
      "source": [
        "try:\n",
        "  print('hello')\n",
        "  j=\"hey\"\n",
        "  print(j[5])\n",
        "  print(\"exceotioin occour\")\n",
        "except:\n",
        "  print(\"bye\")\n",
        "else:#else statement runs when try except is correct properly\n",
        "  print(\"i'm else\")"
      ],
      "metadata": {
        "colab": {
          "base_uri": "https://localhost:8080/"
        },
        "id": "BSOxpfpB-GBl",
        "outputId": "3a3535f4-67be-43a8-c295-0a1edad2e860"
      },
      "execution_count": null,
      "outputs": [
        {
          "output_type": "stream",
          "name": "stdout",
          "text": [
            "hello\n",
            "bye\n"
          ]
        }
      ]
    },
    {
      "cell_type": "code",
      "source": [
        "try:\n",
        "  print('hello')\n",
        "  j=\"hey\"\n",
        "  print(j[2])\n",
        "  print(\"exceotioin occour\")\n",
        "except:\n",
        "  print(\"bye\")\n",
        "else:#else statement runs when try except is correct properly\n",
        "  print(\"i'm else\")"
      ],
      "metadata": {
        "colab": {
          "base_uri": "https://localhost:8080/"
        },
        "id": "PSSZTN9AAJJQ",
        "outputId": "aca056fd-6d2e-4ed7-cd0f-576a80a3f2a7"
      },
      "execution_count": null,
      "outputs": [
        {
          "output_type": "stream",
          "name": "stdout",
          "text": [
            "hello\n",
            "y\n",
            "exceotioin occour\n",
            "i'm else\n"
          ]
        }
      ]
    },
    {
      "cell_type": "code",
      "source": [
        "#finally-> it is run always when error occours or not\n",
        "try:\n",
        "  print('hello')\n",
        "  j=\"hey\"\n",
        "  print(j[2])\n",
        "  print(\"exceotioin occour\")\n",
        "except:\n",
        "  print(\"bye\")\n",
        "else:#else statement runs when try except is correct properly\n",
        "  print(\"i'm else\")\n",
        "finally:\n",
        "  print(\"finally runs\")"
      ],
      "metadata": {
        "colab": {
          "base_uri": "https://localhost:8080/"
        },
        "id": "6pt8wDhzAswp",
        "outputId": "1604b079-4177-4ddf-a317-1d108bd577f4"
      },
      "execution_count": null,
      "outputs": [
        {
          "output_type": "stream",
          "name": "stdout",
          "text": [
            "hello\n",
            "y\n",
            "exceotioin occour\n",
            "i'm else\n",
            "finally runs\n"
          ]
        }
      ]
    },
    {
      "cell_type": "code",
      "source": [
        " age=16\n",
        " try:\n",
        "    if(age<18):\n",
        "      raise ValueError(\"age is less than 18\")\n",
        "    else:\n",
        "      print(\"welcome user\")\n",
        "except ValueError as v:\n",
        "  print(\"please enter correct age\")\n"
      ],
      "metadata": {
        "colab": {
          "base_uri": "https://localhost:8080/"
        },
        "id": "qS8MLbxFA8t5",
        "outputId": "806fb663-3bbd-47c0-8bde-15c6da71b047"
      },
      "execution_count": null,
      "outputs": [
        {
          "output_type": "stream",
          "name": "stdout",
          "text": [
            "please enter correct age\n"
          ]
        }
      ]
    },
    {
      "cell_type": "code",
      "source": [
        "\"\"\"#assert\n",
        "#python2 vs pyhton 3\n",
        "callby ref and obj ref\n",
        "list vs tuple\n",
        "dic vs set use cases\n",
        "aug and kwags in functioins\n",
        "normal func vs lambda func\n",
        "first class vs high class\n",
        "assert\n",
        "1\n",
        "list/array/stack questions important\n",
        "#some questions on stack queue and linklist\n",
        "decorators and genrators most important\"\"\""
      ],
      "metadata": {
        "colab": {
          "base_uri": "https://localhost:8080/",
          "height": 53
        },
        "id": "xm8dEdYgCUP4",
        "outputId": "d1d9189d-154a-4e8a-b4c6-97131d83ddfb"
      },
      "execution_count": null,
      "outputs": [
        {
          "output_type": "execute_result",
          "data": {
            "text/plain": [
              "'#assert \\n#python2 vs pyhton 3\\ncallby ref and obj ref\\nlist vs tuple\\ndic vs set use cases\\naug and kwags in functioins\\nnormal func vs lambda func\\nfirst class vs high class\\nassert\\n1\\nlist/array/stack questions important\\n#some questions on stack queue and linklist\\ndecorators and genrators'"
            ],
            "application/vnd.google.colaboratory.intrinsic+json": {
              "type": "string"
            }
          },
          "metadata": {},
          "execution_count": 25
        }
      ]
    },
    {
      "cell_type": "code",
      "source": [
        "#learning assignment\n",
        "#assert statement\n",
        "#what is genrator and how it's diffrent from\n",
        "  #normal function and it's return keyword"
      ],
      "metadata": {
        "id": "r_76ZvgTEBVk"
      },
      "execution_count": null,
      "outputs": []
    }
  ]
}