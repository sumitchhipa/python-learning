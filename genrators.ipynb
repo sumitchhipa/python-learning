{
  "nbformat": 4,
  "nbformat_minor": 0,
  "metadata": {
    "colab": {
      "provenance": [],
      "authorship_tag": "ABX9TyMqMz9fuaaRkPwvBBiOEHlT",
      "include_colab_link": true
    },
    "kernelspec": {
      "name": "python3",
      "display_name": "Python 3"
    },
    "language_info": {
      "name": "python"
    }
  },
  "cells": [
    {
      "cell_type": "markdown",
      "metadata": {
        "id": "view-in-github",
        "colab_type": "text"
      },
      "source": [
        "<a href=\"https://colab.research.google.com/github/sumitchhipa/python-learning/blob/main/genrators.ipynb\" target=\"_parent\"><img src=\"https://colab.research.google.com/assets/colab-badge.svg\" alt=\"Open In Colab\"/></a>"
      ]
    },
    {
      "cell_type": "code",
      "execution_count": 6,
      "metadata": {
        "colab": {
          "base_uri": "https://localhost:8080/"
        },
        "id": "T6R5U2RefNkj",
        "outputId": "fa3347f7-35db-4f55-d0c2-4f2fbe2f3cc1"
      },
      "outputs": [
        {
          "output_type": "stream",
          "name": "stdout",
          "text": [
            "hi\n",
            "hello\n"
          ]
        },
        {
          "output_type": "execute_result",
          "data": {
            "text/plain": [
              "2"
            ]
          },
          "metadata": {},
          "execution_count": 6
        }
      ],
      "source": [
        "def func():\n",
        "  print(\"hi\")\n",
        "  yield 1 # here we use yield keyword into the genrator\n",
        "  print(\"hello\")\n",
        "  yield 2# genrator learn the last value inside it\n",
        "a=func()\n",
        "next(a)\n",
        "next(a)"
      ]
    },
    {
      "cell_type": "code",
      "source": [],
      "metadata": {
        "id": "qFBpT9Nug-gR"
      },
      "execution_count": null,
      "outputs": []
    }
  ]
}