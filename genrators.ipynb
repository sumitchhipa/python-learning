{
  "nbformat": 4,
  "nbformat_minor": 0,
  "metadata": {
    "colab": {
      "provenance": [],
      "authorship_tag": "ABX9TyOpohp48KDN1FSvk7khlDqN",
      "include_colab_link": true
    },
    "kernelspec": {
      "name": "python3",
      "display_name": "Python 3"
    },
    "language_info": {
      "name": "python"
    }
  },
  "cells": [
    {
      "cell_type": "markdown",
      "metadata": {
        "id": "view-in-github",
        "colab_type": "text"
      },
      "source": [
        "<a href=\"https://colab.research.google.com/github/sumitchhipa/python-learning/blob/main/genrators.ipynb\" target=\"_parent\"><img src=\"https://colab.research.google.com/assets/colab-badge.svg\" alt=\"Open In Colab\"/></a>"
      ]
    },
    {
      "cell_type": "code",
      "execution_count": null,
      "metadata": {
        "colab": {
          "base_uri": "https://localhost:8080/"
        },
        "id": "T6R5U2RefNkj",
        "outputId": "fa3347f7-35db-4f55-d0c2-4f2fbe2f3cc1"
      },
      "outputs": [
        {
          "output_type": "stream",
          "name": "stdout",
          "text": [
            "hi\n",
            "hello\n"
          ]
        },
        {
          "output_type": "execute_result",
          "data": {
            "text/plain": [
              "2"
            ]
          },
          "metadata": {},
          "execution_count": 6
        }
      ],
      "source": [
        "def func():\n",
        "  print(\"hi\")\n",
        "  yield 1 # here we use yield keyword into the genrator\n",
        "  print(\"hello\")\n",
        "  yield 2# genrator learn the last value inside it\n",
        "a=func()\n",
        "next(a)\n",
        "next(a)"
      ]
    },
    {
      "cell_type": "code",
      "source": [
        "def func1():\n",
        "  print(\"hey\")\n",
        "  yield \"how are you\"\n",
        "  print(\"end\")\n",
        "  yield 'goodbye'\n",
        "b=func1()\n",
        "next(b)\n",
        "next(b)\n"
      ],
      "metadata": {
        "colab": {
          "base_uri": "https://localhost:8080/",
          "height": 71
        },
        "id": "qFBpT9Nug-gR",
        "outputId": "d95957e7-d731-4477-c11e-ae25e1038ae8"
      },
      "execution_count": null,
      "outputs": [
        {
          "output_type": "stream",
          "name": "stdout",
          "text": [
            "hey\n",
            "end\n"
          ]
        },
        {
          "output_type": "execute_result",
          "data": {
            "text/plain": [
              "'goodbye'"
            ],
            "application/vnd.google.colaboratory.intrinsic+json": {
              "type": "string"
            }
          },
          "metadata": {},
          "execution_count": 8
        }
      ]
    },
    {
      "cell_type": "code",
      "source": [
        "a=0\n",
        "b=1\n",
        "for i in range(1,10):\n",
        "  print(a)\n",
        "  c=a+b\n",
        "  a=b\n",
        "  b=c\n"
      ],
      "metadata": {
        "colab": {
          "base_uri": "https://localhost:8080/"
        },
        "id": "wp_x7-w7jRS7",
        "outputId": "3800942d-e5b8-4bdb-eb97-7e7f36461d08"
      },
      "execution_count": null,
      "outputs": [
        {
          "output_type": "stream",
          "name": "stdout",
          "text": [
            "0\n",
            "1\n",
            "1\n",
            "2\n",
            "3\n",
            "5\n",
            "8\n",
            "13\n",
            "21\n"
          ]
        }
      ]
    },
    {
      "cell_type": "code",
      "source": [
        "def func():\n",
        "  a=0\n",
        "  b=1\n",
        "  for i in range(1,10):\n",
        "    yield a\n",
        "    c=a+b\n",
        "    a=b\n",
        "    b=c\n",
        "gen=func()\n",
        "for i in gen:\n",
        "  print(i)\n"
      ],
      "metadata": {
        "colab": {
          "base_uri": "https://localhost:8080/"
        },
        "id": "N3APjzGmkGjP",
        "outputId": "3ec04e37-1652-4cae-fafb-fad1e41fdacf"
      },
      "execution_count": null,
      "outputs": [
        {
          "output_type": "stream",
          "name": "stdout",
          "text": [
            "0\n",
            "1\n",
            "1\n",
            "2\n",
            "3\n",
            "5\n",
            "8\n",
            "13\n",
            "21\n"
          ]
        }
      ]
    },
    {
      "cell_type": "code",
      "source": [
        "# decorator is an desgin pattern that\n",
        "# allow to us add functionalty to a object without\n",
        "# decorator are the basically pattern that change the\n",
        "#  functinlity without changing the code"
      ],
      "metadata": {
        "id": "YefefzG1mYTd"
      },
      "execution_count": null,
      "outputs": []
    },
    {
      "cell_type": "code",
      "source": [
        "def add_func(num):\n",
        "  def add_one():\n",
        "    print(\"n vslue\",num)\n",
        "  return add_one\n",
        "output=add_func(10)\n",
        "output()\n",
        "\n"
      ],
      "metadata": {
        "colab": {
          "base_uri": "https://localhost:8080/"
        },
        "id": "foO2UD_znWy_",
        "outputId": "c4b527d6-d510-4dbd-cfbe-a3de747d7492"
      },
      "execution_count": null,
      "outputs": [
        {
          "output_type": "stream",
          "name": "stdout",
          "text": [
            "n vslue 10\n"
          ]
        }
      ]
    },
    {
      "cell_type": "code",
      "source": [
        "# what is closures?\n",
        "#  clousre is basically a function that remember the\n",
        "#  envirourment of outer function\n",
        "# any inner function or outer func that can access outer func"
      ],
      "metadata": {
        "id": "1aqO7BqspYQW"
      },
      "execution_count": null,
      "outputs": []
    },
    {
      "cell_type": "code",
      "source": [
        "# vrnsit solutions"
      ],
      "metadata": {
        "id": "7lz-v7WgqJEf"
      },
      "execution_count": null,
      "outputs": []
    }
  ]
}