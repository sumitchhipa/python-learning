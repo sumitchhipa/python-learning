{
  "nbformat": 4,
  "nbformat_minor": 0,
  "metadata": {
    "colab": {
      "provenance": [],
      "authorship_tag": "ABX9TyO0iA7hqda/4zARG6lrkyWw",
      "include_colab_link": true
    },
    "kernelspec": {
      "name": "python3",
      "display_name": "Python 3"
    },
    "language_info": {
      "name": "python"
    }
  },
  "cells": [
    {
      "cell_type": "markdown",
      "metadata": {
        "id": "view-in-github",
        "colab_type": "text"
      },
      "source": [
        "<a href=\"https://colab.research.google.com/github/sumitchhipa/python-learning/blob/main/function_argument.ipynb\" target=\"_parent\"><img src=\"https://colab.research.google.com/assets/colab-badge.svg\" alt=\"Open In Colab\"/></a>"
      ]
    },
    {
      "cell_type": "code",
      "execution_count": null,
      "metadata": {
        "colab": {
          "base_uri": "https://localhost:8080/"
        },
        "id": "EBZ70MRZymiS",
        "outputId": "f5318b2f-dcdf-42c8-e81e-8994a4a173c5"
      },
      "outputs": [
        {
          "output_type": "stream",
          "name": "stdout",
          "text": [
            "10 helloo 20\n"
          ]
        }
      ],
      "source": [
        "#immutable object can't be change\n",
        "#type of argument passing\n",
        "def func(x,y,z):\n",
        "  print(x,y,z)\n",
        "func(10,\"helloo\",20)  #positional argument"
      ]
    },
    {
      "cell_type": "code",
      "source": [
        "def func(x,y,z):\n",
        "  print(x,y,z)\n",
        "func(x=10,z=\"hello\",y=20)"
      ],
      "metadata": {
        "colab": {
          "base_uri": "https://localhost:8080/"
        },
        "id": "dk0HV8NLzJVU",
        "outputId": "bca4165f-c573-4d7c-9148-0435243b9b40"
      },
      "execution_count": null,
      "outputs": [
        {
          "output_type": "stream",
          "name": "stdout",
          "text": [
            "10 20 hello\n"
          ]
        }
      ]
    },
    {
      "cell_type": "code",
      "source": [
        "#prime number\n",
        "def primecheck(num) :\n",
        "  x=0\n",
        "  for i in range(2,num):\n",
        "    if(num%i==0):\n",
        "      x=1\n",
        "      break\n",
        "\n",
        "  if(x==1):\n",
        "    print(\"not prime\")\n",
        "  else:\n",
        "    Print(\"prime\")\n",
        "primecheck(6)\n",
        "primecheck(5)"
      ],
      "metadata": {
        "colab": {
          "base_uri": "https://localhost:8080/"
        },
        "id": "wWa_yMx90LYm",
        "outputId": "6c4aebd9-f836-402c-fd6f-4a71470fb26f"
      },
      "execution_count": null,
      "outputs": [
        {
          "output_type": "stream",
          "name": "stdout",
          "text": [
            "not prime\n"
          ]
        }
      ]
    },
    {
      "cell_type": "code",
      "source": [
        "def func(x):\n",
        "  print(x+10)\n",
        "y=func(20) #print function do not return anything\n",
        "print(\"y\",y)"
      ],
      "metadata": {
        "id": "t610h0iw1sYW",
        "colab": {
          "base_uri": "https://localhost:8080/"
        },
        "outputId": "5bb38ead-fc2a-4c16-a39a-5b6f602335ec"
      },
      "execution_count": null,
      "outputs": [
        {
          "output_type": "stream",
          "name": "stdout",
          "text": [
            "30\n",
            "y None\n"
          ]
        }
      ]
    },
    {
      "cell_type": "code",
      "source": [
        "def func(x):\n",
        "  print(x+10)\n",
        "  return \"abc\" #if you want retrun after running function use return keyword\n",
        "y=func(20)\n",
        "print(\"y\",y)"
      ],
      "metadata": {
        "colab": {
          "base_uri": "https://localhost:8080/"
        },
        "id": "pXWTJYFB50y0",
        "outputId": "bcb41fbb-ed8b-4aa4-b043-a6d566c737fd"
      },
      "execution_count": null,
      "outputs": [
        {
          "output_type": "stream",
          "name": "stdout",
          "text": [
            "30\n",
            "y abc\n"
          ]
        }
      ]
    },
    {
      "cell_type": "code",
      "source": [
        "\n",
        "#armstrong number\n",
        "def armstrong():\n",
        "    num = int(input(\"Enter a number taht have you want to check armstorng or not \"))\n",
        "    sum = 0\n",
        "    temp = num\n",
        "    while temp > 0:\n",
        "        digit = temp % 10\n",
        "        sum += digit ** 3\n",
        "        temp //= 10\n",
        "    if num == sum:\n",
        "        print(num,\"armstrong\")\n",
        "    else:\n",
        "        print(num,\"Not an armstrong\")\n",
        "        return num\n",
        "print(armstrong())\n",
        "\n"
      ],
      "metadata": {
        "colab": {
          "base_uri": "https://localhost:8080/"
        },
        "id": "nlC6HavWopob",
        "outputId": "4bccba72-5b07-41d4-ab18-0d9341c8069a"
      },
      "execution_count": null,
      "outputs": [
        {
          "output_type": "stream",
          "name": "stdout",
          "text": [
            "Enter a number taht have you want to check armstorng or not 365\n",
            "365 Not an armstrong\n",
            "365\n"
          ]
        }
      ]
    },
    {
      "cell_type": "code",
      "source": [],
      "metadata": {
        "id": "_vY-1VVBrgCs"
      },
      "execution_count": null,
      "outputs": []
    }
  ]
}