{
  "nbformat": 4,
  "nbformat_minor": 0,
  "metadata": {
    "colab": {
      "provenance": [],
      "authorship_tag": "ABX9TyPGL/1wFNHpb2kZmugRIZB7",
      "include_colab_link": true
    },
    "kernelspec": {
      "name": "python3",
      "display_name": "Python 3"
    },
    "language_info": {
      "name": "python"
    }
  },
  "cells": [
    {
      "cell_type": "markdown",
      "metadata": {
        "id": "view-in-github",
        "colab_type": "text"
      },
      "source": [
        "<a href=\"https://colab.research.google.com/github/sumitchhipa/python-learning/blob/main/file_handeling.ipynb\" target=\"_parent\"><img src=\"https://colab.research.google.com/assets/colab-badge.svg\" alt=\"Open In Colab\"/></a>"
      ]
    },
    {
      "cell_type": "code",
      "execution_count": 5,
      "metadata": {
        "colab": {
          "base_uri": "https://localhost:8080/"
        },
        "id": "GJxMbWXQpUBd",
        "outputId": "b75c127d-85aa-4bf8-d126-6fbed2d95cd1"
      },
      "outputs": [
        {
          "output_type": "stream",
          "name": "stdout",
          "text": [
            "\n"
          ]
        }
      ],
      "source": [
        "!touch regex.txt\n",
        "fileobj=open(\"regex.txt\",\"r+\")\n",
        "fileobj.write(\"##\")\n",
        "x=fileobj.read()\n",
        "fileobj.close()\n",
        "print(x)"
      ]
    },
    {
      "cell_type": "code",
      "source": [
        "with open(\"regex.txt\",\"r\") as f:\n",
        "      print(f.readline())\n",
        ""
      ],
      "metadata": {
        "id": "dh-yBEVSp56C",
        "colab": {
          "base_uri": "https://localhost:8080/"
        },
        "outputId": "dbd84640-4828-46bc-fc35-72871d90796e"
      },
      "execution_count": 6,
      "outputs": [
        {
          "output_type": "stream",
          "name": "stdout",
          "text": [
            "##\n"
          ]
        }
      ]
    },
    {
      "cell_type": "code",
      "source": [
        "with open(\"regex.txt\",\"r\") as f:\n",
        "      print(f.readline())"
      ],
      "metadata": {
        "colab": {
          "base_uri": "https://localhost:8080/"
        },
        "id": "bT2nMYSMuo2g",
        "outputId": "3c9c13ba-4fdf-455a-e8a2-afb9569bfcf5"
      },
      "execution_count": 7,
      "outputs": [
        {
          "output_type": "stream",
          "name": "stdout",
          "text": [
            "##\n"
          ]
        }
      ]
    },
    {
      "cell_type": "code",
      "source": [
        "with open(\"regex.txt\",\"r\") as f:\n",
        "      for line in f:\n",
        "        print(line.strip())"
      ],
      "metadata": {
        "colab": {
          "base_uri": "https://localhost:8080/"
        },
        "id": "0TKP_PwxuEWw",
        "outputId": "a218d889-5bb9-4b64-e2ab-d50977a99a34"
      },
      "execution_count": 8,
      "outputs": [
        {
          "output_type": "stream",
          "name": "stdout",
          "text": [
            "##\n"
          ]
        }
      ]
    },
    {
      "cell_type": "code",
      "source": [
        "import csv\n",
        "with open(\"regex.txt\",\"r\") as f:\n",
        "    fcsv=csv.reader(f)\n",
        "    for line in fcsv:\n",
        "        try:\n",
        "            name,age=line\n",
        "            print(\"name\",name,\"ages:\",age)\n",
        "        except ValueError as e:\n",
        "            print(f\"Error unpacking line: {line}, Error: {e}\")"
      ],
      "metadata": {
        "colab": {
          "base_uri": "https://localhost:8080/"
        },
        "id": "XLaE_LrEyOdL",
        "outputId": "9875aef8-8add-4c7f-c276-ba52cf8871cd"
      },
      "execution_count": 11,
      "outputs": [
        {
          "output_type": "stream",
          "name": "stdout",
          "text": [
            "Error unpacking line: ['##'], Error: not enough values to unpack (expected 2, got 1)\n"
          ]
        }
      ]
    },
    {
      "cell_type": "code",
      "source": [],
      "metadata": {
        "id": "0uU3BYsmztHI"
      },
      "execution_count": null,
      "outputs": []
    }
  ]
}