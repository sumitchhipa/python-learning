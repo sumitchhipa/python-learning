{
  "nbformat": 4,
  "nbformat_minor": 0,
  "metadata": {
    "colab": {
      "provenance": [],
      "authorship_tag": "ABX9TyPsw8Jqu7knBuYcCmLcUg2e",
      "include_colab_link": true
    },
    "kernelspec": {
      "name": "python3",
      "display_name": "Python 3"
    },
    "language_info": {
      "name": "python"
    }
  },
  "cells": [
    {
      "cell_type": "markdown",
      "metadata": {
        "id": "view-in-github",
        "colab_type": "text"
      },
      "source": [
        "<a href=\"https://colab.research.google.com/github/sumitchhipa/python-learning/blob/main/oops7.ipynb\" target=\"_parent\"><img src=\"https://colab.research.google.com/assets/colab-badge.svg\" alt=\"Open In Colab\"/></a>"
      ]
    },
    {
      "cell_type": "code",
      "execution_count": 2,
      "metadata": {
        "colab": {
          "base_uri": "https://localhost:8080/"
        },
        "id": "aaQX1I8fVC-6",
        "outputId": "1aea91fd-e8e5-4054-820d-a928a83a074e"
      },
      "outputs": [
        {
          "output_type": "stream",
          "name": "stdout",
          "text": [
            "circle Area 78.5\n",
            "circle perimetr 31.400000000000002\n"
          ]
        }
      ],
      "source": [
        "from abc import ABC, abstractmethod\n",
        "class Shape(ABC):\n",
        "  @abstractmethod\n",
        "  def area(self):\n",
        "    pass\n",
        "  @abstractmethod\n",
        "  def perimeter(self):\n",
        "    pass\n",
        "class Circle(Shape):\n",
        "  def __init__(self,radius):\n",
        "    self.radius=radius\n",
        "  def area(self):\n",
        "    return 3.14*self.radius*self.radius\n",
        "  def perimeter(self):\n",
        "    return 2*3.14*self.radius\n",
        "\n",
        "Circle=Circle(5)\n",
        "print(\"circle Area\",Circle.area())\n",
        "print(\"circle perimetr\",Circle.perimeter())"
      ]
    },
    {
      "cell_type": "code",
      "source": [
        "class Factorialcalculator:\n",
        "  def calculatefactorial(self, n):\n",
        "    if n==0 or n==1:\n",
        "      return 1\n",
        "    else:\n",
        "      return n*self.calculatefactorial(n-1)\n",
        "calculator=Factorialcalculator()\n",
        "number=5\n",
        "result=calculator.calculatefactorial(number)\n",
        "print(f\"the factorial of {number} is {result}\")\n"
      ],
      "metadata": {
        "colab": {
          "base_uri": "https://localhost:8080/"
        },
        "id": "rNogmmP0Yzvo",
        "outputId": "c0d6e4bf-4f88-46e6-ae0b-04d855e2b43b"
      },
      "execution_count": 6,
      "outputs": [
        {
          "output_type": "stream",
          "name": "stdout",
          "text": [
            "the factorial of 5 is 120\n"
          ]
        }
      ]
    },
    {
      "cell_type": "code",
      "source": [
        "def log_decorator(func):\n",
        "  def wrapper(*args, **kwargs):\n",
        "    print(f\"Calling function {func.__name__} with arguments {args} and {kwargs}\")\n",
        "    result=func(*args, **kwargs)\n",
        "    print(f\"Function {func.__name__} returned {result}\")\n",
        "    return result\n",
        "  return wrapper\n",
        "@log_decorator\n",
        "def greet(name):\n",
        "  print(f\"hello:{name}\")\n",
        "greet(\"sam\")\n",
        "\n",
        ""
      ],
      "metadata": {
        "colab": {
          "base_uri": "https://localhost:8080/"
        },
        "id": "jaJwbUItbZWA",
        "outputId": "a637ede3-4e96-4a86-eec8-cc9a9764f84f"
      },
      "execution_count": 9,
      "outputs": [
        {
          "output_type": "stream",
          "name": "stdout",
          "text": [
            "Calling function greet with arguments ('sam',) and {}\n",
            "hello:sam\n",
            "Function greet returned None\n"
          ]
        }
      ]
    },
    {
      "cell_type": "code",
      "source": [],
      "metadata": {
        "id": "z1isuRl0dqPQ"
      },
      "execution_count": null,
      "outputs": []
    }
  ]
}