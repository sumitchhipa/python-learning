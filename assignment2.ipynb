{
  "nbformat": 4,
  "nbformat_minor": 0,
  "metadata": {
    "colab": {
      "provenance": [],
      "authorship_tag": "ABX9TyMrIJEpEC2upHbAyTAo4H5h",
      "include_colab_link": true
    },
    "kernelspec": {
      "name": "python3",
      "display_name": "Python 3"
    },
    "language_info": {
      "name": "python"
    }
  },
  "cells": [
    {
      "cell_type": "markdown",
      "metadata": {
        "id": "view-in-github",
        "colab_type": "text"
      },
      "source": [
        "<a href=\"https://colab.research.google.com/github/sumitchhipa/python-learning/blob/main/assignment2.ipynb\" target=\"_parent\"><img src=\"https://colab.research.google.com/assets/colab-badge.svg\" alt=\"Open In Colab\"/></a>"
      ]
    },
    {
      "cell_type": "code",
      "execution_count": null,
      "metadata": {
        "id": "jl8blDP_9kDF"
      },
      "outputs": [],
      "source": [
        "num = int(input(\"enter a number: \"))\n",
        "temp = num\n",
        "rev= 0\n",
        "while num > 0:\n",
        "    digit = num % 10\n",
        "    rev = rev * 10 + digit\n",
        "    num = num // 10\n",
        "if temp == rev:\n",
        "    print(f\"{temp} s a palindrome.\")\n",
        "else:\n",
        "    print(f\"{temp} is not a palindrome.\")\n"
      ]
    },
    {
      "cell_type": "code",
      "source": [
        "string = input(\"enter a string: \")\n",
        "rev= \"\"\n",
        "\n",
        "for char in st:\n",
        "    rev= char + rev\n",
        "\n",
        "if st == rev:\n",
        "    print(f\"'{st}' is a palindrome.\")\n",
        "else:\n",
        "    print(f\"'{st}' is not a palindrome.\")\n"
      ],
      "metadata": {
        "id": "r-toYyHf-Uyz"
      },
      "execution_count": null,
      "outputs": []
    },
    {
      "cell_type": "code",
      "source": [
        "num = int(input(\"enter a number: \"))\n",
        "\n",
        "print(f\"factors of {num}:\")\n",
        "for i in range(1, num + 1):\n",
        "    if num % i == 0:\n",
        "        print(i, end=\" \")\n"
      ],
      "metadata": {
        "id": "uaco7pz6-qey"
      },
      "execution_count": null,
      "outputs": []
    },
    {
      "cell_type": "code",
      "source": [
        "num = [10, 20, 30, 40123, 123, 123]\n",
        "t= 70\n",
        "print(f\"numbers greater than {t}:\")\n",
        "for num in num:\n",
        "    if num > t:\n",
        "        print(num, end=\" \")\n"
      ],
      "metadata": {
        "id": "HHkhdW5V_PD_"
      },
      "execution_count": null,
      "outputs": []
    },
    {
      "cell_type": "code",
      "source": [
        "for i in range(1, 4):\n",
        "    print(' ' * (3 - i) + '* ' * i)\n"
      ],
      "metadata": {
        "id": "5Pi4DdSLA5uy",
        "colab": {
          "base_uri": "https://localhost:8080/"
        },
        "outputId": "06aa1d24-45a2-4aed-dde6-d7c6fa940755"
      },
      "execution_count": null,
      "outputs": [
        {
          "output_type": "stream",
          "name": "stdout",
          "text": [
            "  * \n",
            " * * \n",
            "* * * \n"
          ]
        }
      ]
    },
    {
      "cell_type": "code",
      "source": [
        "n = 5\n",
        "for i in range(n):\n",
        "    print(\" \" * i, end=\"\")\n",
        "    print(\"* \" * (n - i))\n"
      ],
      "metadata": {
        "id": "l7xQgsUwDQsd",
        "colab": {
          "base_uri": "https://localhost:8080/"
        },
        "outputId": "3122be2e-4320-4488-c908-f19bafa3b12f"
      },
      "execution_count": null,
      "outputs": [
        {
          "output_type": "stream",
          "name": "stdout",
          "text": [
            "* * * * * \n",
            " * * * * \n",
            "  * * * \n",
            "   * * \n",
            "    * \n"
          ]
        }
      ]
    },
    {
      "cell_type": "code",
      "source": [
        "lst = [10, 20, 30, 40123, 123, 123]\n",
        "for i in range(len(lst)):\n",
        "    for j in range(i + 1, len(lst)):\n",
        "        if lst[i] + lst[j] == 143:\n",
        "            print(lst[i], lst[j])\n"
      ],
      "metadata": {
        "colab": {
          "base_uri": "https://localhost:8080/"
        },
        "id": "DQyzD_yYElGo",
        "outputId": "f0f79a12-5f22-4a4b-cc7f-89a0bcf7367e"
      },
      "execution_count": null,
      "outputs": [
        {
          "output_type": "stream",
          "name": "stdout",
          "text": [
            "20 123\n",
            "20 123\n"
          ]
        }
      ]
    }
  ]
}