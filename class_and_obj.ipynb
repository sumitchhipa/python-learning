{
  "nbformat": 4,
  "nbformat_minor": 0,
  "metadata": {
    "colab": {
      "provenance": [],
      "authorship_tag": "ABX9TyOC1CkXBe0g9u9Y+mZjmXl5",
      "include_colab_link": true
    },
    "kernelspec": {
      "name": "python3",
      "display_name": "Python 3"
    },
    "language_info": {
      "name": "python"
    }
  },
  "cells": [
    {
      "cell_type": "markdown",
      "metadata": {
        "id": "view-in-github",
        "colab_type": "text"
      },
      "source": [
        "<a href=\"https://colab.research.google.com/github/sumitchhipa/python-learning/blob/main/class_and_obj.ipynb\" target=\"_parent\"><img src=\"https://colab.research.google.com/assets/colab-badge.svg\" alt=\"Open In Colab\"/></a>"
      ]
    },
    {
      "cell_type": "code",
      "execution_count": 17,
      "metadata": {
        "colab": {
          "base_uri": "https://localhost:8080/"
        },
        "id": "J3-lygR_mP3c",
        "outputId": "e8497a74-d698-41bb-d2c5-4035b8f8d08b"
      },
      "outputs": [
        {
          "output_type": "stream",
          "name": "stdout",
          "text": [
            "room info white 3\n",
            "<__main__.House object at 0x7a4aea82cb50>\n",
            "white\n",
            "3\n",
            "pink\n",
            "<__main__.House object at 0x7a4aea82cb50> <__main__.House object at 0x7a4aea82ec10>\n",
            "white\n",
            "personal\n"
          ]
        }
      ],
      "source": [
        "#class is an bluprint and class is an collection of objects\n",
        "class House:\n",
        "  color=\"white\"# class variable, class variable is shared among all object of a class\n",
        "  #using variable we create characterstic\n",
        "  def info(self): #consructor is an function which is intialize\n",
        "                                                # memory of a class\n",
        "    print(\"room info\",self.color,self.room)\n",
        "  pur=\"rent\"\n",
        "  room=3\n",
        "  #using function we create functionality\n",
        " # how to convert hexadecimal and binary----------------->important\n",
        " #obj=classname()\n",
        "\n",
        "h1=House()\n",
        "h1.info()\n",
        "h2=House()\n",
        "print(h1)\n",
        "h2.color=\"pink\"\n",
        "print(h1.color)\n",
        "print(h2.room)\n",
        "print(h2.color)\n",
        "print(h1,h2)\n",
        "print(h1.color)\n",
        "h3=House()\n",
        "h3.pur=\"personal\"\n",
        "print(h3.pur)"
      ]
    },
    {
      "cell_type": "code",
      "source": [
        "class House:\n",
        "  def __init__(self):\n",
        "    print(\"mistri\",self)#self is an variable that store the current\n",
        "                                                      #object refrence\n",
        "h1=House()\n",
        "print(h1)"
      ],
      "metadata": {
        "id": "COLOoWKswg5z",
        "outputId": "43f55310-f550-4b68-8cca-0d1050bbefa8",
        "colab": {
          "base_uri": "https://localhost:8080/"
        }
      },
      "execution_count": 24,
      "outputs": [
        {
          "output_type": "stream",
          "name": "stdout",
          "text": [
            "mistri <__main__.House object at 0x7a4aeb2d1510>\n",
            "<__main__.House object at 0x7a4aeb2d1510>\n"
          ]
        }
      ]
    },
    {
      "cell_type": "code",
      "source": [
        "class House:\n",
        "  def __init__(x):\n",
        "    print(\"mistri\",x)#self is an variable that store the current\n",
        "                                                      #object refrence\n",
        "h1=House()\n",
        "print(h1)"
      ],
      "metadata": {
        "colab": {
          "base_uri": "https://localhost:8080/"
        },
        "id": "iheGaIshrsS-",
        "outputId": "6343080c-9fea-428a-8566-2710cd8beaec"
      },
      "execution_count": 25,
      "outputs": [
        {
          "output_type": "stream",
          "name": "stdout",
          "text": [
            "mistri <__main__.House object at 0x7a4aea7f7250>\n",
            "<__main__.House object at 0x7a4aea7f7250>\n"
          ]
        }
      ]
    },
    {
      "cell_type": "code",
      "source": [],
      "metadata": {
        "id": "JaXw116UyDPi"
      },
      "execution_count": null,
      "outputs": []
    }
  ]
}