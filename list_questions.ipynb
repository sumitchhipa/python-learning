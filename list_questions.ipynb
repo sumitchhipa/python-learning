{
  "nbformat": 4,
  "nbformat_minor": 0,
  "metadata": {
    "colab": {
      "provenance": [],
      "authorship_tag": "ABX9TyPnMyYTX/+Vt2MUYvEzSTsZ",
      "include_colab_link": true
    },
    "kernelspec": {
      "name": "python3",
      "display_name": "Python 3"
    },
    "language_info": {
      "name": "python"
    }
  },
  "cells": [
    {
      "cell_type": "markdown",
      "metadata": {
        "id": "view-in-github",
        "colab_type": "text"
      },
      "source": [
        "<a href=\"https://colab.research.google.com/github/sumitchhipa/python-learning/blob/main/list_questions.ipynb\" target=\"_parent\"><img src=\"https://colab.research.google.com/assets/colab-badge.svg\" alt=\"Open In Colab\"/></a>"
      ]
    },
    {
      "cell_type": "code",
      "execution_count": 15,
      "metadata": {
        "colab": {
          "base_uri": "https://localhost:8080/"
        },
        "id": "OalyF0OKebPw",
        "outputId": "4e8bae54-f931-4b37-ad22-c31a9671ec6f"
      },
      "outputs": [
        {
          "output_type": "execute_result",
          "data": {
            "text/plain": [
              "(['even is', 52, 26, 26, 2, 2, 2, 62], ['odd is', 5, 5, 5])"
            ]
          },
          "metadata": {},
          "execution_count": 15
        }
      ],
      "source": [
        "def check(numbers):\n",
        "  even=[\"even is\"]\n",
        "  odd=[\"odd is\"]\n",
        "  for num in numbers:\n",
        "    if num%2==0:\n",
        "      even.append(num)\n",
        "      # print(\"even\",num)\n",
        "    else:\n",
        "      odd.append(num)\n",
        "      # print(\"odd\",num)\n",
        "  return even,odd\n",
        "numbers=[52,26,26,2,5,2,5,2,62,5]\n",
        "check(numbers)"
      ]
    },
    {
      "cell_type": "code",
      "source": [
        "def findls(numbers):\n",
        "  largest=numbers[0]\n",
        "  smallest=numbers[0]\n",
        "  for num in numbers:\n",
        "    if num>largest:\n",
        "      largest=num\n",
        "    else:\n",
        "      if num<smallest:\n",
        "        smallest=num\n",
        "  return largest,smallest\n",
        "\n",
        "\n",
        "numbers=[15,26,2,6,21,621,6]\n",
        "largest,smallest=findls(numbers)\n",
        "print(\"largest is\",largest)\n",
        "print(\"largest is\",smallest)"
      ],
      "metadata": {
        "colab": {
          "base_uri": "https://localhost:8080/"
        },
        "id": "3wHpVKKFe_7p",
        "outputId": "5c38a83a-8fb8-40ad-dafd-1774ce2b52f8"
      },
      "execution_count": 26,
      "outputs": [
        {
          "output_type": "stream",
          "name": "stdout",
          "text": [
            "largest is 621\n",
            "largest is 2\n"
          ]
        }
      ]
    },
    {
      "cell_type": "code",
      "source": [
        "def natural(numbers):\n",
        "  zero = 0  # Initialize as integer\n",
        "  one = 0   # Initialize as integer\n",
        "  less = 0  # Initialize as integer\n",
        "  for num in numbers:\n",
        "    if num < 0:\n",
        "      zero += 1\n",
        "    elif num > 0:\n",
        "      less += 1\n",
        "    else:\n",
        "      one += 1\n",
        "  return zero, one, less\n",
        "\n",
        "numbers = [2,6,7,0,2,5,6,-7,2,-2,5]\n",
        "zero,one,less=natural(numbers)\n",
        "print(\"zero is\",zero)\n",
        "print(\"one is\",one)\n",
        "print(\"less is\",less)\n",
        "natural(numbers)\n"
      ],
      "metadata": {
        "colab": {
          "base_uri": "https://localhost:8080/"
        },
        "id": "yazXQFsai4If",
        "outputId": "9930c756-9016-424d-b113-c0a0976a2901"
      },
      "execution_count": 42,
      "outputs": [
        {
          "output_type": "stream",
          "name": "stdout",
          "text": [
            "zero is 2\n",
            "one is 1\n",
            "less is 8\n"
          ]
        },
        {
          "output_type": "execute_result",
          "data": {
            "text/plain": [
              "(2, 1, 8)"
            ]
          },
          "metadata": {},
          "execution_count": 42
        }
      ]
    },
    {
      "cell_type": "code",
      "source": [
        "list=[1,2,3,4,5,6,7,8]\n",
        "print(list[::-1])"
      ],
      "metadata": {
        "colab": {
          "base_uri": "https://localhost:8080/"
        },
        "id": "ujh8WUProOC9",
        "outputId": "d0aafa4d-b11c-4f77-853f-d79632013811"
      },
      "execution_count": 45,
      "outputs": [
        {
          "output_type": "stream",
          "name": "stdout",
          "text": [
            "[8, 7, 6, 5, 4, 3, 2, 1]\n"
          ]
        }
      ]
    },
    {
      "cell_type": "code",
      "source": [
        "list=[1,2,3,4,5,6,8,7]\n",
        "total=0\n",
        "for num in list:\n",
        "  total+=num\n",
        "print(total)"
      ],
      "metadata": {
        "colab": {
          "base_uri": "https://localhost:8080/"
        },
        "id": "Eva5lPr6wg-K",
        "outputId": "6a641d4d-447d-47ec-9469-75dc5fa39039"
      },
      "execution_count": 48,
      "outputs": [
        {
          "output_type": "stream",
          "name": "stdout",
          "text": [
            "36\n"
          ]
        }
      ]
    },
    {
      "cell_type": "code",
      "source": [
        "list=[1,2,6,3,6,6,6,7,8]\n",
        "single,duplicate\n",
        "for num in list:\n",
        "  if num in single:\n",
        "\n",
        "    print(num)"
      ],
      "metadata": {
        "colab": {
          "base_uri": "https://localhost:8080/"
        },
        "id": "Pn5Km3QfxliQ",
        "outputId": "f311a7b7-5d1b-4ac8-f75d-da02bc155b41"
      },
      "execution_count": 49,
      "outputs": [
        {
          "output_type": "stream",
          "name": "stdout",
          "text": [
            "1\n",
            "2\n",
            "6\n",
            "3\n",
            "6\n",
            "6\n",
            "6\n",
            "7\n",
            "8\n"
          ]
        }
      ]
    },
    {
      "cell_type": "code",
      "source": [],
      "metadata": {
        "id": "WZueES6FyUJy"
      },
      "execution_count": 6,
      "outputs": []
    },
    {
      "cell_type": "code",
      "source": [],
      "metadata": {
        "id": "oQLQCd3f8JHO"
      },
      "execution_count": null,
      "outputs": []
    }
  ]
}