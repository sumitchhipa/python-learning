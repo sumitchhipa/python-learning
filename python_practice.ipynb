{
  "nbformat": 4,
  "nbformat_minor": 0,
  "metadata": {
    "colab": {
      "provenance": [],
      "authorship_tag": "ABX9TyNW8yqEXb1c096lDP/vdRzP",
      "include_colab_link": true
    },
    "kernelspec": {
      "name": "python3",
      "display_name": "Python 3"
    },
    "language_info": {
      "name": "python"
    }
  },
  "cells": [
    {
      "cell_type": "markdown",
      "metadata": {
        "id": "view-in-github",
        "colab_type": "text"
      },
      "source": [
        "<a href=\"https://colab.research.google.com/github/sumitchhipa/python-learning/blob/main/python_practice.ipynb\" target=\"_parent\"><img src=\"https://colab.research.google.com/assets/colab-badge.svg\" alt=\"Open In Colab\"/></a>"
      ]
    },
    {
      "cell_type": "code",
      "execution_count": null,
      "metadata": {
        "colab": {
          "base_uri": "https://localhost:8080/"
        },
        "id": "A9ThGtNdr_-M",
        "outputId": "3fa8c94a-9a66-43ae-be91-5098474f65da"
      },
      "outputs": [
        {
          "output_type": "stream",
          "name": "stdout",
          "text": [
            "\n",
            "2  \n",
            "2  3  \n",
            "2  3  4  \n",
            "2  3  4  5  \n"
          ]
        }
      ],
      "source": [
        "n=7\n",
        "for row in range(2,n):\n",
        "  for col in range(2,row):\n",
        "    print(col,end=\"  \")\n",
        "  print(\"\")"
      ]
    },
    {
      "cell_type": "code",
      "source": [
        "n=71\n",
        "for row in range(65,n):\n",
        "  for col in range(row):\n",
        "   print(row,end=\"\")\n",
        "  print(\"\")"
      ],
      "metadata": {
        "colab": {
          "base_uri": "https://localhost:8080/"
        },
        "id": "kHwANg-LsepB",
        "outputId": "6f247a30-2031-41f6-8c22-cdc20814382c"
      },
      "execution_count": null,
      "outputs": [
        {
          "output_type": "stream",
          "name": "stdout",
          "text": [
            "65656565\n",
            "6666\n",
            "\n",
            "\n",
            "\n",
            "\n"
          ]
        }
      ]
    },
    {
      "cell_type": "code",
      "source": [
        "n=5\n",
        "x=2\n",
        "for row in range(x,n):\n",
        "  for col in range(x,row+1):\n",
        "    print(x,end=\"\")\n",
        "    x+=1\n",
        "  print(\"\")"
      ],
      "metadata": {
        "colab": {
          "base_uri": "https://localhost:8080/"
        },
        "id": "Jn4y3nPA7c1u",
        "outputId": "d0ed250d-8a15-482c-8f30-c0544bd99821"
      },
      "execution_count": null,
      "outputs": [
        {
          "output_type": "stream",
          "name": "stdout",
          "text": [
            "2\n",
            "3\n",
            "4\n"
          ]
        }
      ]
    },
    {
      "cell_type": "code",
      "source": [
        "n=4\n",
        "for row in range(n,0):\n",
        "  for col in range(row,-1):\n",
        "    print(\"*\",end=\"\")\n",
        "  print(\"\")"
      ],
      "metadata": {
        "id": "htC_XFR5A2sU"
      },
      "execution_count": null,
      "outputs": []
    },
    {
      "cell_type": "code",
      "source": [],
      "metadata": {
        "id": "CLYSbtNFDRuC"
      },
      "execution_count": null,
      "outputs": []
    }
  ]
}