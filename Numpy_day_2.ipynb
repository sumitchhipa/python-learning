{
  "nbformat": 4,
  "nbformat_minor": 0,
  "metadata": {
    "colab": {
      "provenance": [],
      "authorship_tag": "ABX9TyNjgGXd+qFHBnmMaBT3Parf",
      "include_colab_link": true
    },
    "kernelspec": {
      "name": "python3",
      "display_name": "Python 3"
    },
    "language_info": {
      "name": "python"
    }
  },
  "cells": [
    {
      "cell_type": "markdown",
      "metadata": {
        "id": "view-in-github",
        "colab_type": "text"
      },
      "source": [
        "<a href=\"https://colab.research.google.com/github/sumitchhipa/python-learning/blob/main/Numpy_day_2.ipynb\" target=\"_parent\"><img src=\"https://colab.research.google.com/assets/colab-badge.svg\" alt=\"Open In Colab\"/></a>"
      ]
    },
    {
      "cell_type": "code",
      "execution_count": 3,
      "metadata": {
        "colab": {
          "base_uri": "https://localhost:8080/"
        },
        "id": "AS--c8WpFIiK",
        "outputId": "12e11e16-d4ce-46bf-b213-e4a6a651f988"
      },
      "outputs": [
        {
          "output_type": "execute_result",
          "data": {
            "text/plain": [
              "array([1., 1., 1., 1.])"
            ]
          },
          "metadata": {},
          "execution_count": 3
        }
      ],
      "source": [
        "# ones -> it will create an array in which all the values are 1.\n",
        "import numpy as np\n",
        "a=np.ones(4)\n",
        "a\n"
      ]
    },
    {
      "cell_type": "code",
      "source": [
        "# (3)eye()-> it will create an array in which diognal positional elements will be a and rest all are 0\n",
        "a=np.eye(3)\n",
        "a\n",
        "# diag()-> using this method we can create an array in which we can customiz our digonal position elements.\n",
        "a=np.diag([2,52,2,5])\n",
        "a\n",
        "# (5) random module\n",
        "#A) Randint(-> it will genrate random numbers in a given range )\n",
        "# syntax- np.random.randint(min_value,max_value,total_numbers)\n",
        "a=np.random.randint(1,10,3)\n",
        "a\n",
        "# (b)-> rand() it will genrate random numbers in 0-1.\n",
        "a=np.random.rand(3)\n",
        "a\n",
        "# (c)seed()-> it will fix the random genrated data\n",
        "np.random.seed(1)\n",
        "a= np.random.randint(1,10,4)\n",
        "a"
      ],
      "metadata": {
        "colab": {
          "base_uri": "https://localhost:8080/"
        },
        "id": "xleHFLXCKX-O",
        "outputId": "952525c4-ef20-4744-90ca-5dbc0c8175a0"
      },
      "execution_count": 11,
      "outputs": [
        {
          "output_type": "execute_result",
          "data": {
            "text/plain": [
              "array([6, 9, 6, 1])"
            ]
          },
          "metadata": {},
          "execution_count": 11
        }
      ]
    },
    {
      "cell_type": "code",
      "source": [
        "# view vs copy------>\n",
        "a= np.array([1,2,3,4,5,7,8,9,10])\n",
        "b=a[2:5]\n",
        "b[:]=0\n",
        "b\n",
        "# a"
      ],
      "metadata": {
        "colab": {
          "base_uri": "https://localhost:8080/"
        },
        "id": "v255ENlsKy6G",
        "outputId": "e86de57c-b508-4f40-d470-33585c056b9e"
      },
      "execution_count": 13,
      "outputs": [
        {
          "output_type": "execute_result",
          "data": {
            "text/plain": [
              "array([ 1,  2,  0,  0,  0,  7,  8,  9, 10])"
            ]
          },
          "metadata": {},
          "execution_count": 13
        }
      ]
    },
    {
      "cell_type": "code",
      "source": [
        "a=np.array([1,2,3,4,5,6,7,8,9])\n",
        "b=a[1:5].copy()\n",
        "b[:]=0\n",
        "b\n",
        "# a"
      ],
      "metadata": {
        "colab": {
          "base_uri": "https://localhost:8080/"
        },
        "id": "6M4iCarQOT0f",
        "outputId": "4d689432-649f-450d-f3d4-a1200da97152"
      },
      "execution_count": 15,
      "outputs": [
        {
          "output_type": "execute_result",
          "data": {
            "text/plain": [
              "array([0, 0, 0, 0])"
            ]
          },
          "metadata": {},
          "execution_count": 15
        }
      ]
    },
    {
      "cell_type": "code",
      "source": [],
      "metadata": {
        "id": "8I-0RYdLOn1q"
      },
      "execution_count": null,
      "outputs": []
    }
  ]
}