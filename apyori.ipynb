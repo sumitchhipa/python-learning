{
  "nbformat": 4,
  "nbformat_minor": 0,
  "metadata": {
    "colab": {
      "provenance": [],
      "gpuType": "T4",
      "authorship_tag": "ABX9TyNRXbZCq5Y+gllvNN79CagI",
      "include_colab_link": true
    },
    "kernelspec": {
      "name": "python3",
      "display_name": "Python 3"
    },
    "language_info": {
      "name": "python"
    },
    "accelerator": "GPU"
  },
  "cells": [
    {
      "cell_type": "markdown",
      "metadata": {
        "id": "view-in-github",
        "colab_type": "text"
      },
      "source": [
        "<a href=\"https://colab.research.google.com/github/sumitchhipa/python-learning/blob/main/apyori.ipynb\" target=\"_parent\"><img src=\"https://colab.research.google.com/assets/colab-badge.svg\" alt=\"Open In Colab\"/></a>"
      ]
    },
    {
      "cell_type": "code",
      "execution_count": 6,
      "metadata": {
        "id": "2k_qMm3aclyO"
      },
      "outputs": [],
      "source": [
        "import numpy as np\n",
        "import pandas as pd\n",
        "df=pd.read_csv(\"/content/market_basket.csv\",header=None)"
      ]
    },
    {
      "cell_type": "code",
      "source": [
        "!pip install apyori\n"
      ],
      "metadata": {
        "colab": {
          "base_uri": "https://localhost:8080/"
        },
        "id": "iTnssxRTeX65",
        "outputId": "8986077c-fd93-4a64-9386-65174e91e4ae"
      },
      "execution_count": 7,
      "outputs": [
        {
          "output_type": "stream",
          "name": "stdout",
          "text": [
            "Requirement already satisfied: apyori in /usr/local/lib/python3.11/dist-packages (1.1.2)\n"
          ]
        }
      ]
    },
    {
      "cell_type": "code",
      "source": [
        "#data processing\n",
        "transactions=[]\n",
        "for i in range(0,7501):\n",
        "  transactions.append([str(df.values[i,j]) for j in range(0,20)])\n",
        "\n",
        "#training the dataset\n",
        "from apyori import apriori\n",
        "rules=apriori (transactions=transactions,\n",
        "                min_support=0.003,\n",
        "                min_confidence=0.2,\n",
        "                min_lift=3,\n",
        "                min_length=2,)\n",
        "#visualizing the result\n",
        "results=list(rules)\n",
        "results=[list(item[0]) for item in results] # corrected visualization part"
      ],
      "metadata": {
        "id": "HOZQz4NVec2n"
      },
      "execution_count": 8,
      "outputs": []
    },
    {
      "cell_type": "code",
      "source": [],
      "metadata": {
        "id": "K_X1g8bjfh7d"
      },
      "execution_count": null,
      "outputs": []
    }
  ]
}